{
 "cells": [
  {
   "cell_type": "code",
   "execution_count": 1,
   "metadata": {},
   "outputs": [],
   "source": [
    "import investpy as ip"
   ]
  },
  {
   "cell_type": "code",
   "execution_count": 20,
   "metadata": {},
   "outputs": [],
   "source": [
    "stock = 'TRPL4'"
   ]
  },
  {
   "cell_type": "code",
   "execution_count": 24,
   "metadata": {},
   "outputs": [
    {
     "data": {
      "text/plain": [
       "['__author__',\n",
       " '__builtins__',\n",
       " '__cached__',\n",
       " '__doc__',\n",
       " '__file__',\n",
       " '__loader__',\n",
       " '__name__',\n",
       " '__package__',\n",
       " '__path__',\n",
       " '__spec__',\n",
       " '__version__',\n",
       " 'bonds',\n",
       " 'certificates',\n",
       " 'commodities',\n",
       " 'crypto',\n",
       " 'currency_crosses',\n",
       " 'data',\n",
       " 'economic_calendar',\n",
       " 'etfs',\n",
       " 'funds',\n",
       " 'get_available_currencies',\n",
       " 'get_bond_countries',\n",
       " 'get_bond_historical_data',\n",
       " 'get_bond_information',\n",
       " 'get_bond_recent_data',\n",
       " 'get_bonds',\n",
       " 'get_bonds_dict',\n",
       " 'get_bonds_list',\n",
       " 'get_bonds_overview',\n",
       " 'get_certificate_countries',\n",
       " 'get_certificate_historical_data',\n",
       " 'get_certificate_information',\n",
       " 'get_certificate_recent_data',\n",
       " 'get_certificates',\n",
       " 'get_certificates_dict',\n",
       " 'get_certificates_list',\n",
       " 'get_certificates_overview',\n",
       " 'get_commodities',\n",
       " 'get_commodities_dict',\n",
       " 'get_commodities_list',\n",
       " 'get_commodities_overview',\n",
       " 'get_commodity_groups',\n",
       " 'get_commodity_historical_data',\n",
       " 'get_commodity_information',\n",
       " 'get_commodity_recent_data',\n",
       " 'get_crypto_historical_data',\n",
       " 'get_crypto_information',\n",
       " 'get_crypto_recent_data',\n",
       " 'get_cryptos',\n",
       " 'get_cryptos_dict',\n",
       " 'get_cryptos_list',\n",
       " 'get_cryptos_overview',\n",
       " 'get_currency_cross_historical_data',\n",
       " 'get_currency_cross_information',\n",
       " 'get_currency_cross_recent_data',\n",
       " 'get_currency_crosses',\n",
       " 'get_currency_crosses_dict',\n",
       " 'get_currency_crosses_list',\n",
       " 'get_currency_crosses_overview',\n",
       " 'get_etf_countries',\n",
       " 'get_etf_historical_data',\n",
       " 'get_etf_information',\n",
       " 'get_etf_recent_data',\n",
       " 'get_etfs',\n",
       " 'get_etfs_dict',\n",
       " 'get_etfs_list',\n",
       " 'get_etfs_overview',\n",
       " 'get_fund_countries',\n",
       " 'get_fund_historical_data',\n",
       " 'get_fund_information',\n",
       " 'get_fund_recent_data',\n",
       " 'get_funds',\n",
       " 'get_funds_dict',\n",
       " 'get_funds_list',\n",
       " 'get_funds_overview',\n",
       " 'get_index_countries',\n",
       " 'get_index_historical_data',\n",
       " 'get_index_information',\n",
       " 'get_index_recent_data',\n",
       " 'get_indices',\n",
       " 'get_indices_dict',\n",
       " 'get_indices_list',\n",
       " 'get_indices_overview',\n",
       " 'get_stock_company_profile',\n",
       " 'get_stock_countries',\n",
       " 'get_stock_dividends',\n",
       " 'get_stock_financial_summary',\n",
       " 'get_stock_historical_data',\n",
       " 'get_stock_information',\n",
       " 'get_stock_recent_data',\n",
       " 'get_stocks',\n",
       " 'get_stocks_dict',\n",
       " 'get_stocks_list',\n",
       " 'get_stocks_overview',\n",
       " 'indices',\n",
       " 'moving_averages',\n",
       " 'news',\n",
       " 'pivot_points',\n",
       " 'search',\n",
       " 'search_bonds',\n",
       " 'search_certificates',\n",
       " 'search_commodities',\n",
       " 'search_cryptos',\n",
       " 'search_currency_crosses',\n",
       " 'search_etfs',\n",
       " 'search_events',\n",
       " 'search_funds',\n",
       " 'search_indices',\n",
       " 'search_quotes',\n",
       " 'search_stocks',\n",
       " 'stocks',\n",
       " 'technical',\n",
       " 'technical_indicators',\n",
       " 'utils']"
      ]
     },
     "execution_count": 24,
     "metadata": {},
     "output_type": "execute_result"
    }
   ],
   "source": [
    "dir(ip)"
   ]
  },
  {
   "cell_type": "code",
   "execution_count": 25,
   "metadata": {},
   "outputs": [
    {
     "ename": "RuntimeError",
     "evalue": "ERR#0061: introduced stock has no dividend's data to display.",
     "output_type": "error",
     "traceback": [
      "\u001b[1;31m---------------------------------------------------------------------------\u001b[0m",
      "\u001b[1;31mRuntimeError\u001b[0m                              Traceback (most recent call last)",
      "\u001b[1;32m<ipython-input-25-ccac4b36a912>\u001b[0m in \u001b[0;36m<module>\u001b[1;34m\u001b[0m\n\u001b[1;32m----> 1\u001b[1;33m \u001b[0mip\u001b[0m\u001b[1;33m.\u001b[0m\u001b[0mget_stock_dividends\u001b[0m\u001b[1;33m(\u001b[0m\u001b[0mstock\u001b[0m\u001b[1;33m,\u001b[0m \u001b[1;34m'Brazil'\u001b[0m\u001b[1;33m)\u001b[0m\u001b[1;33m\u001b[0m\u001b[1;33m\u001b[0m\u001b[0m\n\u001b[0m",
      "\u001b[1;32m~\\anaconda3\\lib\\site-packages\\investpy\\stocks.py\u001b[0m in \u001b[0;36mget_stock_dividends\u001b[1;34m(stock, country)\u001b[0m\n\u001b[0;32m    993\u001b[0m         \u001b[1;32mreturn\u001b[0m \u001b[0mdf\u001b[0m\u001b[1;33m\u001b[0m\u001b[1;33m\u001b[0m\u001b[0m\n\u001b[0;32m    994\u001b[0m     \u001b[1;32melse\u001b[0m\u001b[1;33m:\u001b[0m\u001b[1;33m\u001b[0m\u001b[1;33m\u001b[0m\u001b[0m\n\u001b[1;32m--> 995\u001b[1;33m         \u001b[1;32mraise\u001b[0m \u001b[0mRuntimeError\u001b[0m\u001b[1;33m(\u001b[0m\u001b[1;34m\"ERR#0061: introduced stock has no dividend's data to display.\"\u001b[0m\u001b[1;33m)\u001b[0m\u001b[1;33m\u001b[0m\u001b[1;33m\u001b[0m\u001b[0m\n\u001b[0m\u001b[0;32m    996\u001b[0m \u001b[1;33m\u001b[0m\u001b[0m\n\u001b[0;32m    997\u001b[0m \u001b[1;33m\u001b[0m\u001b[0m\n",
      "\u001b[1;31mRuntimeError\u001b[0m: ERR#0061: introduced stock has no dividend's data to display."
     ]
    }
   ],
   "source": [
    "ip.get_stock_dividends(stock, 'Brazil')"
   ]
  },
  {
   "cell_type": "code",
   "execution_count": null,
   "metadata": {},
   "outputs": [],
   "source": []
  },
  {
   "cell_type": "code",
   "execution_count": null,
   "metadata": {},
   "outputs": [],
   "source": []
  }
 ],
 "metadata": {
  "kernelspec": {
   "display_name": "Python 3",
   "language": "python",
   "name": "python3"
  },
  "language_info": {
   "codemirror_mode": {
    "name": "ipython",
    "version": 3
   },
   "file_extension": ".py",
   "mimetype": "text/x-python",
   "name": "python",
   "nbconvert_exporter": "python",
   "pygments_lexer": "ipython3",
   "version": "3.8.5"
  }
 },
 "nbformat": 4,
 "nbformat_minor": 4
}
