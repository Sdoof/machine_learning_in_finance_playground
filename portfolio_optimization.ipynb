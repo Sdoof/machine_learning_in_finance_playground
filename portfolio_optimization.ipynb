{
 "cells": [
  {
   "cell_type": "code",
   "execution_count": 1,
   "metadata": {},
   "outputs": [],
   "source": [
    "import investpy as ip\n",
    "from datetime import datetime\n",
    "import numpy as np\n",
    "from tqdm import tqdm\n",
    "import pandas as pd\n",
    "from finquant.portfolio import build_portfolio\n",
    "import warnings\n",
    "warnings.filterwarnings('ignore')"
   ]
  },
  {
   "cell_type": "code",
   "execution_count": 2,
   "metadata": {},
   "outputs": [],
   "source": [
    "today = datetime.today().date().strftime('%d/%m/%Y')\n",
    "start_of_year = f'1/1/{datetime.today().date().year}'"
   ]
  },
  {
   "cell_type": "code",
   "execution_count": 3,
   "metadata": {},
   "outputs": [],
   "source": [
    "#tickers = list(ip.get_stocks(country='brazil').symbol)"
   ]
  },
  {
   "cell_type": "code",
   "execution_count": 4,
   "metadata": {},
   "outputs": [],
   "source": [
    "#Liquid tickers\n",
    "temp = ip.get_stocks_overview('brazil', n_results=700)\n",
    "liquidity_threshold = np.quantile(temp.turnover, .75) #75-th percentile\n",
    "temp = temp[temp.turnover >= liquidity_threshold]\n",
    "tickers = list(temp.symbol)"
   ]
  },
  {
   "cell_type": "code",
   "execution_count": 5,
   "metadata": {},
   "outputs": [],
   "source": [
    "tickers.append('PETR4')\n",
    "tickers.append('PCAR3')\n",
    "tickers.append('CYRE3')"
   ]
  },
  {
   "cell_type": "code",
   "execution_count": 6,
   "metadata": {},
   "outputs": [
    {
     "data": {
      "text/plain": [
       "178"
      ]
     },
     "execution_count": 6,
     "metadata": {},
     "output_type": "execute_result"
    }
   ],
   "source": [
    "len(tickers)"
   ]
  },
  {
   "cell_type": "code",
   "execution_count": 7,
   "metadata": {},
   "outputs": [
    {
     "name": "stderr",
     "output_type": "stream",
     "text": [
      "100%|████████████████████████████████████████████████████████████████████████████████| 178/178 [02:24<00:00,  1.23it/s]"
     ]
    },
    {
     "name": "stdout",
     "output_type": "stream",
     "text": [
      "177, 1\n"
     ]
    },
    {
     "name": "stderr",
     "output_type": "stream",
     "text": [
      "\n"
     ]
    }
   ],
   "source": [
    "prices, success, fail = {}, 0, 0\n",
    "for t in tqdm(tickers):\n",
    "    try:\n",
    "        p = ip.get_stock_historical_data(t,\n",
    "                                         country='brazil', \n",
    "                                         from_date=start_of_year, to_date=today).Close\n",
    "        assert len(p) > 0\n",
    "        if len(p) >= 20:\n",
    "            prices[t] = p\n",
    "            success += 1\n",
    "        else:\n",
    "            fail += 1\n",
    "    except:\n",
    "        fail += 1\n",
    "\n",
    "print(f'{success}, {fail}')\n"
   ]
  },
  {
   "cell_type": "code",
   "execution_count": 8,
   "metadata": {},
   "outputs": [],
   "source": [
    "#prices_0 = prices # -- save just in case\n",
    "prices = pd.DataFrame(prices) # -- transform to dataframe"
   ]
  },
  {
   "cell_type": "code",
   "execution_count": 9,
   "metadata": {},
   "outputs": [
    {
     "data": {
      "text/html": [
       "<div>\n",
       "<style scoped>\n",
       "    .dataframe tbody tr th:only-of-type {\n",
       "        vertical-align: middle;\n",
       "    }\n",
       "\n",
       "    .dataframe tbody tr th {\n",
       "        vertical-align: top;\n",
       "    }\n",
       "\n",
       "    .dataframe thead th {\n",
       "        text-align: right;\n",
       "    }\n",
       "</style>\n",
       "<table border=\"1\" class=\"dataframe\">\n",
       "  <thead>\n",
       "    <tr style=\"text-align: right;\">\n",
       "      <th></th>\n",
       "      <th>ABCB4</th>\n",
       "      <th>RAIL3</th>\n",
       "      <th>ALPA4</th>\n",
       "      <th>ALSO3</th>\n",
       "      <th>AMAR3</th>\n",
       "      <th>ABEV3</th>\n",
       "      <th>ARZZ3</th>\n",
       "      <th>BBAS3</th>\n",
       "      <th>BBDC3</th>\n",
       "      <th>BBDC4</th>\n",
       "      <th>...</th>\n",
       "      <th>BRDT3</th>\n",
       "      <th>NEOE3</th>\n",
       "      <th>BKBR3</th>\n",
       "      <th>HAPV3</th>\n",
       "      <th>GNDI3</th>\n",
       "      <th>BIDI4</th>\n",
       "      <th>BIDI4T</th>\n",
       "      <th>CNTO3</th>\n",
       "      <th>BIDI11</th>\n",
       "      <th>BIDI3</th>\n",
       "    </tr>\n",
       "    <tr>\n",
       "      <th>Date</th>\n",
       "      <th></th>\n",
       "      <th></th>\n",
       "      <th></th>\n",
       "      <th></th>\n",
       "      <th></th>\n",
       "      <th></th>\n",
       "      <th></th>\n",
       "      <th></th>\n",
       "      <th></th>\n",
       "      <th></th>\n",
       "      <th></th>\n",
       "      <th></th>\n",
       "      <th></th>\n",
       "      <th></th>\n",
       "      <th></th>\n",
       "      <th></th>\n",
       "      <th></th>\n",
       "      <th></th>\n",
       "      <th></th>\n",
       "      <th></th>\n",
       "      <th></th>\n",
       "    </tr>\n",
       "  </thead>\n",
       "  <tbody>\n",
       "    <tr>\n",
       "      <th>2020-01-02</th>\n",
       "      <td>20.03</td>\n",
       "      <td>26.40</td>\n",
       "      <td>32.58</td>\n",
       "      <td>50.01</td>\n",
       "      <td>13.46</td>\n",
       "      <td>19.20</td>\n",
       "      <td>63.91</td>\n",
       "      <td>53.06</td>\n",
       "      <td>32.07</td>\n",
       "      <td>33.94</td>\n",
       "      <td>...</td>\n",
       "      <td>30.74</td>\n",
       "      <td>24.42</td>\n",
       "      <td>17.35</td>\n",
       "      <td>13.22</td>\n",
       "      <td>71.66</td>\n",
       "      <td>15.63</td>\n",
       "      <td>15.53</td>\n",
       "      <td>37.43</td>\n",
       "      <td>45.90</td>\n",
       "      <td>14.77</td>\n",
       "    </tr>\n",
       "    <tr>\n",
       "      <th>2020-01-03</th>\n",
       "      <td>20.47</td>\n",
       "      <td>25.63</td>\n",
       "      <td>32.58</td>\n",
       "      <td>51.42</td>\n",
       "      <td>13.95</td>\n",
       "      <td>18.93</td>\n",
       "      <td>63.00</td>\n",
       "      <td>52.97</td>\n",
       "      <td>31.57</td>\n",
       "      <td>33.96</td>\n",
       "      <td>...</td>\n",
       "      <td>30.56</td>\n",
       "      <td>24.07</td>\n",
       "      <td>17.05</td>\n",
       "      <td>13.78</td>\n",
       "      <td>73.00</td>\n",
       "      <td>15.91</td>\n",
       "      <td>16.38</td>\n",
       "      <td>37.97</td>\n",
       "      <td>48.45</td>\n",
       "      <td>15.45</td>\n",
       "    </tr>\n",
       "    <tr>\n",
       "      <th>2020-01-06</th>\n",
       "      <td>20.34</td>\n",
       "      <td>24.90</td>\n",
       "      <td>32.07</td>\n",
       "      <td>51.07</td>\n",
       "      <td>13.63</td>\n",
       "      <td>19.02</td>\n",
       "      <td>62.61</td>\n",
       "      <td>52.27</td>\n",
       "      <td>31.39</td>\n",
       "      <td>33.35</td>\n",
       "      <td>...</td>\n",
       "      <td>29.03</td>\n",
       "      <td>24.22</td>\n",
       "      <td>17.23</td>\n",
       "      <td>13.36</td>\n",
       "      <td>69.99</td>\n",
       "      <td>17.17</td>\n",
       "      <td>17.25</td>\n",
       "      <td>38.00</td>\n",
       "      <td>51.40</td>\n",
       "      <td>16.40</td>\n",
       "    </tr>\n",
       "    <tr>\n",
       "      <th>2020-01-07</th>\n",
       "      <td>20.08</td>\n",
       "      <td>25.27</td>\n",
       "      <td>32.80</td>\n",
       "      <td>50.47</td>\n",
       "      <td>13.67</td>\n",
       "      <td>19.06</td>\n",
       "      <td>62.90</td>\n",
       "      <td>51.87</td>\n",
       "      <td>30.86</td>\n",
       "      <td>32.77</td>\n",
       "      <td>...</td>\n",
       "      <td>28.99</td>\n",
       "      <td>24.30</td>\n",
       "      <td>17.34</td>\n",
       "      <td>12.99</td>\n",
       "      <td>67.60</td>\n",
       "      <td>17.45</td>\n",
       "      <td>17.62</td>\n",
       "      <td>38.65</td>\n",
       "      <td>53.50</td>\n",
       "      <td>17.89</td>\n",
       "    </tr>\n",
       "    <tr>\n",
       "      <th>2020-01-08</th>\n",
       "      <td>20.03</td>\n",
       "      <td>25.60</td>\n",
       "      <td>33.16</td>\n",
       "      <td>52.00</td>\n",
       "      <td>13.87</td>\n",
       "      <td>18.97</td>\n",
       "      <td>62.00</td>\n",
       "      <td>51.40</td>\n",
       "      <td>30.39</td>\n",
       "      <td>32.27</td>\n",
       "      <td>...</td>\n",
       "      <td>28.85</td>\n",
       "      <td>24.65</td>\n",
       "      <td>17.23</td>\n",
       "      <td>12.72</td>\n",
       "      <td>68.00</td>\n",
       "      <td>17.30</td>\n",
       "      <td>17.24</td>\n",
       "      <td>38.65</td>\n",
       "      <td>52.05</td>\n",
       "      <td>17.10</td>\n",
       "    </tr>\n",
       "  </tbody>\n",
       "</table>\n",
       "<p>5 rows × 172 columns</p>\n",
       "</div>"
      ],
      "text/plain": [
       "            ABCB4  RAIL3  ALPA4  ALSO3  AMAR3  ABEV3  ARZZ3  BBAS3  BBDC3  \\\n",
       "Date                                                                        \n",
       "2020-01-02  20.03  26.40  32.58  50.01  13.46  19.20  63.91  53.06  32.07   \n",
       "2020-01-03  20.47  25.63  32.58  51.42  13.95  18.93  63.00  52.97  31.57   \n",
       "2020-01-06  20.34  24.90  32.07  51.07  13.63  19.02  62.61  52.27  31.39   \n",
       "2020-01-07  20.08  25.27  32.80  50.47  13.67  19.06  62.90  51.87  30.86   \n",
       "2020-01-08  20.03  25.60  33.16  52.00  13.87  18.97  62.00  51.40  30.39   \n",
       "\n",
       "            BBDC4  ...  BRDT3  NEOE3  BKBR3  HAPV3  GNDI3  BIDI4  BIDI4T  \\\n",
       "Date               ...                                                     \n",
       "2020-01-02  33.94  ...  30.74  24.42  17.35  13.22  71.66  15.63   15.53   \n",
       "2020-01-03  33.96  ...  30.56  24.07  17.05  13.78  73.00  15.91   16.38   \n",
       "2020-01-06  33.35  ...  29.03  24.22  17.23  13.36  69.99  17.17   17.25   \n",
       "2020-01-07  32.77  ...  28.99  24.30  17.34  12.99  67.60  17.45   17.62   \n",
       "2020-01-08  32.27  ...  28.85  24.65  17.23  12.72  68.00  17.30   17.24   \n",
       "\n",
       "            CNTO3  BIDI11  BIDI3  \n",
       "Date                              \n",
       "2020-01-02  37.43   45.90  14.77  \n",
       "2020-01-03  37.97   48.45  15.45  \n",
       "2020-01-06  38.00   51.40  16.40  \n",
       "2020-01-07  38.65   53.50  17.89  \n",
       "2020-01-08  38.65   52.05  17.10  \n",
       "\n",
       "[5 rows x 172 columns]"
      ]
     },
     "execution_count": 9,
     "metadata": {},
     "output_type": "execute_result"
    }
   ],
   "source": [
    "prices.head()"
   ]
  },
  {
   "cell_type": "code",
   "execution_count": 10,
   "metadata": {},
   "outputs": [],
   "source": [
    "def evaluate_portfolio(portfolio, p = prices):\n",
    "    w, res = build_portfolio(data = p.loc[:,portfolio]).mc_optimisation(num_trials=5000)\n",
    "    w = w.loc['Max Sharpe Ratio']\n",
    "    Sharpe = res.loc['Max Sharpe Ratio','Sharpe Ratio']\n",
    "    return(Sharpe, w)"
   ]
  },
  {
   "cell_type": "code",
   "execution_count": 11,
   "metadata": {},
   "outputs": [
    {
     "data": {
      "text/plain": [
       "Index(['ABCB4', 'RAIL3', 'ALPA4', 'ALSO3', 'AMAR3', 'ABEV3', 'ARZZ3', 'BBAS3',\n",
       "       'BBDC3', 'BBDC4',\n",
       "       ...\n",
       "       'BRDT3', 'NEOE3', 'BKBR3', 'HAPV3', 'GNDI3', 'BIDI4', 'BIDI4T', 'CNTO3',\n",
       "       'BIDI11', 'BIDI3'],\n",
       "      dtype='object', length=172)"
      ]
     },
     "execution_count": 11,
     "metadata": {},
     "output_type": "execute_result"
    }
   ],
   "source": [
    "prices.columns"
   ]
  },
  {
   "cell_type": "code",
   "execution_count": 12,
   "metadata": {},
   "outputs": [
    {
     "data": {
      "text/plain": [
       "(1000, 3)"
      ]
     },
     "execution_count": 12,
     "metadata": {},
     "output_type": "execute_result"
    }
   ],
   "source": [
    "portfolio_size = 3\n",
    "NSim = 1000\n",
    "combinations = np.random.choice(prices.columns, size=(NSim, portfolio_size), replace=True)\n",
    "combinations.shape"
   ]
  },
  {
   "cell_type": "code",
   "execution_count": 13,
   "metadata": {},
   "outputs": [
    {
     "data": {
      "text/plain": [
       "(987, 3)"
      ]
     },
     "execution_count": 13,
     "metadata": {},
     "output_type": "execute_result"
    }
   ],
   "source": [
    "#Trim portfolios with duplicate stocks\n",
    "portfolios = np.empty((NSim, portfolio_size),dtype='object')\n",
    "\n",
    "i = 0\n",
    "for c in combinations:\n",
    "    if len(np.unique(c)) == portfolio_size:\n",
    "        portfolios[i] = c\n",
    "        i +=1\n",
    "\n",
    "portfolios = portfolios[portfolios != None].reshape(-1, portfolio_size)\n",
    "portfolios.shape"
   ]
  },
  {
   "cell_type": "code",
   "execution_count": 14,
   "metadata": {},
   "outputs": [
    {
     "data": {
      "text/plain": [
       "array([['TOTS3', 'MULT3', 'TEND3'],\n",
       "       ['BIDI3', 'ELET6', 'TGMA3'],\n",
       "       ['ETER3', 'ECOR3', 'TASA4'],\n",
       "       ['PETR4', 'MDIA3', 'PNVL3'],\n",
       "       ['UGPA3', 'OMGE3', 'ELET6']], dtype=object)"
      ]
     },
     "execution_count": 14,
     "metadata": {},
     "output_type": "execute_result"
    }
   ],
   "source": [
    "portfolios[0:5]"
   ]
  },
  {
   "cell_type": "code",
   "execution_count": 15,
   "metadata": {},
   "outputs": [
    {
     "name": "stderr",
     "output_type": "stream",
     "text": [
      "100%|██████████████████████████████████████████████████████████████████████████████| 987/987 [1:31:37<00:00,  5.57s/it]"
     ]
    },
    {
     "name": "stdout",
     "output_type": "stream",
     "text": [
      "987, 0\n"
     ]
    },
    {
     "name": "stderr",
     "output_type": "stream",
     "text": [
      "\n"
     ]
    }
   ],
   "source": [
    "evals = {'Sharpe': [], 'w': []}\n",
    "success, fail = 0, 0\n",
    "for c in tqdm(portfolios):\n",
    "    try:\n",
    "        Sharpe, w = evaluate_portfolio(c)\n",
    "        evals['Sharpe'].append(Sharpe)\n",
    "        evals['w'].append(w)\n",
    "        success += 1\n",
    "    except:\n",
    "        fail += 1\n",
    "        \n",
    "print(f'{success}, {fail}')"
   ]
  },
  {
   "cell_type": "code",
   "execution_count": 24,
   "metadata": {},
   "outputs": [],
   "source": [
    "best_portfolio = np.where(evals['Sharpe'] == max(evals['Sharpe']))[0][0]"
   ]
  },
  {
   "cell_type": "code",
   "execution_count": 25,
   "metadata": {},
   "outputs": [
    {
     "name": "stdout",
     "output_type": "stream",
     "text": [
      "2.0076311100551827\n",
      "KLBN11    0.403203\n",
      "ENAT3     0.000457\n",
      "RCSL3     0.596340\n",
      "Name: Max Sharpe Ratio, dtype: float64\n"
     ]
    }
   ],
   "source": [
    "print(evals['Sharpe'][best_portfolio])\n",
    "print(evals['w'][best_portfolio])"
   ]
  },
  {
   "cell_type": "code",
   "execution_count": 26,
   "metadata": {},
   "outputs": [],
   "source": [
    "import matplotlib.pyplot as plt"
   ]
  },
  {
   "cell_type": "code",
   "execution_count": 27,
   "metadata": {},
   "outputs": [
    {
     "data": {
      "image/png": "[encoded data removed]",
      "text/plain": [
       "<Figure size 432x288 with 1 Axes>"
      ]
     },
     "metadata": {
      "needs_background": "light"
     },
     "output_type": "display_data"
    }
   ],
   "source": [
    "plt.hist(evals['Sharpe'])\n",
    "plt.show()"
   ]
  },
  {
   "cell_type": "code",
   "execution_count": 28,
   "metadata": {},
   "outputs": [
    {
     "data": {
      "text/plain": [
       "KLBN11    0.403203\n",
       "ENAT3     0.000457\n",
       "RCSL3     0.596340\n",
       "Name: Max Sharpe Ratio, dtype: float64"
      ]
     },
     "execution_count": 28,
     "metadata": {},
     "output_type": "execute_result"
    }
   ],
   "source": [
    "best_portfolio = evals['w'][best_portfolio]\n",
    "best_portfolio"
   ]
  },
  {
   "cell_type": "code",
   "execution_count": 29,
   "metadata": {},
   "outputs": [
    {
     "data": {
      "text/html": [
       "<div>\n",
       "<style scoped>\n",
       "    .dataframe tbody tr th:only-of-type {\n",
       "        vertical-align: middle;\n",
       "    }\n",
       "\n",
       "    .dataframe tbody tr th {\n",
       "        vertical-align: top;\n",
       "    }\n",
       "\n",
       "    .dataframe thead th {\n",
       "        text-align: right;\n",
       "    }\n",
       "</style>\n",
       "<table border=\"1\" class=\"dataframe\">\n",
       "  <thead>\n",
       "    <tr style=\"text-align: right;\">\n",
       "      <th></th>\n",
       "      <th>Name</th>\n",
       "      <th>Allocation</th>\n",
       "    </tr>\n",
       "  </thead>\n",
       "  <tbody>\n",
       "    <tr>\n",
       "      <th>0</th>\n",
       "      <td>KLBN11</td>\n",
       "      <td>0.403203</td>\n",
       "    </tr>\n",
       "    <tr>\n",
       "      <th>1</th>\n",
       "      <td>ENAT3</td>\n",
       "      <td>0.000457</td>\n",
       "    </tr>\n",
       "    <tr>\n",
       "      <th>2</th>\n",
       "      <td>RCSL3</td>\n",
       "      <td>0.596340</td>\n",
       "    </tr>\n",
       "  </tbody>\n",
       "</table>\n",
       "</div>"
      ],
      "text/plain": [
       "     Name  Allocation\n",
       "0  KLBN11    0.403203\n",
       "1   ENAT3    0.000457\n",
       "2   RCSL3    0.596340"
      ]
     },
     "execution_count": 29,
     "metadata": {},
     "output_type": "execute_result"
    }
   ],
   "source": [
    "alloc = pd.DataFrame(best_portfolio).reset_index()\n",
    "alloc.columns = ['Name','Allocation']\n",
    "alloc"
   ]
  },
  {
   "cell_type": "code",
   "execution_count": 30,
   "metadata": {},
   "outputs": [],
   "source": [
    "pf = build_portfolio(data=prices[best_portfolio.index],pf_allocation=alloc)"
   ]
  },
  {
   "cell_type": "code",
   "execution_count": 31,
   "metadata": {},
   "outputs": [
    {
     "name": "stdout",
     "output_type": "stream",
     "text": [
      "----------------------------------------------------------------------\n",
      "Stocks: KLBN11, ENAT3, RCSL3\n",
      "Time window/frequency: 252\n",
      "Risk free rate: 0.005\n",
      "Portfolio Expected Return: 1.615\n",
      "Portfolio Volatility: 0.802\n",
      "Portfolio Sharpe Ratio: 2.008\n",
      "\n",
      "Skewness:\n",
      "     KLBN11     ENAT3     RCSL3\n",
      "0 -0.536775  1.286813  2.821229\n",
      "\n",
      "Kurtosis:\n",
      "     KLBN11     ENAT3     RCSL3\n",
      "0 -0.290568  0.881635  7.924799\n",
      "\n",
      "Information:\n",
      "   Allocation    Name\n",
      "0    0.403203  KLBN11\n",
      "1    0.000457   ENAT3\n",
      "2    0.596340   RCSL3\n",
      "----------------------------------------------------------------------\n"
     ]
    }
   ],
   "source": [
    "pf.properties()"
   ]
  },
  {
   "cell_type": "code",
   "execution_count": null,
   "metadata": {},
   "outputs": [],
   "source": []
  }
 ],
 "metadata": {
  "kernelspec": {
   "display_name": "Python 3",
   "language": "python",
   "name": "python3"
  },
  "language_info": {
   "codemirror_mode": {
    "name": "ipython",
    "version": 3
   },
   "file_extension": ".py",
   "mimetype": "text/x-python",
   "name": "python",
   "nbconvert_exporter": "python",
   "pygments_lexer": "ipython3",
   "version": "3.8.5"
  }
 },
 "nbformat": 4,
 "nbformat_minor": 4
}
