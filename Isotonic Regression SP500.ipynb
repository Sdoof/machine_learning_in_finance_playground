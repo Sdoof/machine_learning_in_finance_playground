{
 "cells": [
  {
   "cell_type": "code",
   "execution_count": 51,
   "metadata": {},
   "outputs": [],
   "source": [
    "import investpy as ip\n",
    "from datetime import datetime\n",
    "from datetime import timedelta\n",
    "from pycaret.regression import *\n",
    "import matplotlib.pyplot as plt"
   ]
  },
  {
   "cell_type": "code",
   "execution_count": 52,
   "metadata": {},
   "outputs": [
    {
     "data": {
      "text/plain": [
       "'25/05/2021'"
      ]
     },
     "execution_count": 52,
     "metadata": {},
     "output_type": "execute_result"
    }
   ],
   "source": [
    "tkr = 'Fundo de Invest Ishares SP 500'\n",
    "today = (datetime.today() - timedelta(days=1)).strftime('%d/%m/%Y')\n",
    "today"
   ]
  },
  {
   "cell_type": "code",
   "execution_count": 53,
   "metadata": {},
   "outputs": [],
   "source": [
    "data = ip.get_etf_historical_data(tkr, 'brazil','01/01/2000',today)\n",
    "data.drop(columns=['Exchange'], inplace=True)"
   ]
  },
  {
   "cell_type": "code",
   "execution_count": 54,
   "metadata": {},
   "outputs": [
    {
     "data": {
      "text/html": [
       "<div>\n",
       "<style scoped>\n",
       "    .dataframe tbody tr th:only-of-type {\n",
       "        vertical-align: middle;\n",
       "    }\n",
       "\n",
       "    .dataframe tbody tr th {\n",
       "        vertical-align: top;\n",
       "    }\n",
       "\n",
       "    .dataframe thead th {\n",
       "        text-align: right;\n",
       "    }\n",
       "</style>\n",
       "<table border=\"1\" class=\"dataframe\">\n",
       "  <thead>\n",
       "    <tr style=\"text-align: right;\">\n",
       "      <th></th>\n",
       "      <th>Open</th>\n",
       "      <th>High</th>\n",
       "      <th>Low</th>\n",
       "      <th>Close</th>\n",
       "      <th>Volume</th>\n",
       "      <th>Currency</th>\n",
       "    </tr>\n",
       "    <tr>\n",
       "      <th>Date</th>\n",
       "      <th></th>\n",
       "      <th></th>\n",
       "      <th></th>\n",
       "      <th></th>\n",
       "      <th></th>\n",
       "      <th></th>\n",
       "    </tr>\n",
       "  </thead>\n",
       "  <tbody>\n",
       "    <tr>\n",
       "      <th>2021-05-21</th>\n",
       "      <td>239.00</td>\n",
       "      <td>242.67</td>\n",
       "      <td>238.61</td>\n",
       "      <td>242.00</td>\n",
       "      <td>652234</td>\n",
       "      <td>BRL</td>\n",
       "    </tr>\n",
       "    <tr>\n",
       "      <th>2021-05-24</th>\n",
       "      <td>241.96</td>\n",
       "      <td>243.47</td>\n",
       "      <td>241.37</td>\n",
       "      <td>242.50</td>\n",
       "      <td>243523</td>\n",
       "      <td>BRL</td>\n",
       "    </tr>\n",
       "    <tr>\n",
       "      <th>2021-05-25</th>\n",
       "      <td>242.44</td>\n",
       "      <td>243.09</td>\n",
       "      <td>240.89</td>\n",
       "      <td>242.43</td>\n",
       "      <td>264492</td>\n",
       "      <td>BRL</td>\n",
       "    </tr>\n",
       "  </tbody>\n",
       "</table>\n",
       "</div>"
      ],
      "text/plain": [
       "              Open    High     Low   Close  Volume Currency\n",
       "Date                                                       \n",
       "2021-05-21  239.00  242.67  238.61  242.00  652234      BRL\n",
       "2021-05-24  241.96  243.47  241.37  242.50  243523      BRL\n",
       "2021-05-25  242.44  243.09  240.89  242.43  264492      BRL"
      ]
     },
     "execution_count": 54,
     "metadata": {},
     "output_type": "execute_result"
    }
   ],
   "source": [
    "data.tail(3)"
   ]
  },
  {
   "cell_type": "code",
   "execution_count": 55,
   "metadata": {},
   "outputs": [
    {
     "data": {
      "image/png": "[encoded data removed]",
      "text/plain": [
       "<Figure size 432x288 with 1 Axes>"
      ]
     },
     "metadata": {
      "needs_background": "light"
     },
     "output_type": "display_data"
    }
   ],
   "source": [
    "data.Low.plot();"
   ]
  },
  {
   "cell_type": "code",
   "execution_count": 56,
   "metadata": {},
   "outputs": [],
   "source": [
    "y = data.Close\n",
    "x = np.array(data.reset_index().index)"
   ]
  },
  {
   "cell_type": "code",
   "execution_count": 57,
   "metadata": {},
   "outputs": [
    {
     "data": {
      "image/png": "[encoded data removed]",
      "text/plain": [
       "<Figure size 432x288 with 1 Axes>"
      ]
     },
     "metadata": {
      "needs_background": "light"
     },
     "output_type": "display_data"
    }
   ],
   "source": [
    "plt.plot(x,y);"
   ]
  },
  {
   "cell_type": "code",
   "execution_count": 58,
   "metadata": {},
   "outputs": [],
   "source": [
    "from sklearn.isotonic import IsotonicRegression\n",
    "model = IsotonicRegression()\n",
    "yhat = model.fit_transform(x,y)"
   ]
  },
  {
   "cell_type": "code",
   "execution_count": 59,
   "metadata": {},
   "outputs": [
    {
     "data": {
      "image/png": "[encoded data removed]",
      "text/plain": [
       "<Figure size 432x288 with 1 Axes>"
      ]
     },
     "metadata": {
      "needs_background": "light"
     },
     "output_type": "display_data"
    }
   ],
   "source": [
    "plt.plot(x,y)\n",
    "plt.plot(x,yhat);"
   ]
  },
  {
   "cell_type": "code",
   "execution_count": 60,
   "metadata": {},
   "outputs": [
    {
     "data": {
      "text/plain": [
       "245.62926829268292"
      ]
     },
     "execution_count": 60,
     "metadata": {},
     "output_type": "execute_result"
    }
   ],
   "source": [
    "yhat[-1]"
   ]
  },
  {
   "cell_type": "code",
   "execution_count": 61,
   "metadata": {},
   "outputs": [
    {
     "data": {
      "text/plain": [
       "0.9947082156292529"
      ]
     },
     "execution_count": 61,
     "metadata": {},
     "output_type": "execute_result"
    }
   ],
   "source": [
    "model.score(x,y)"
   ]
  },
  {
   "cell_type": "code",
   "execution_count": 101,
   "metadata": {},
   "outputs": [],
   "source": [
    "e = y - yhat\n",
    "ze = e/np.std(e)"
   ]
  },
  {
   "cell_type": "code",
   "execution_count": 102,
   "metadata": {},
   "outputs": [
    {
     "data": {
      "image/png": "[encoded data removed]",
      "text/plain": [
       "<Figure size 432x288 with 1 Axes>"
      ]
     },
     "metadata": {
      "needs_background": "light"
     },
     "output_type": "display_data"
    }
   ],
   "source": [
    "plt.hist(ze, bins=100)\n",
    "plt.axvline(x=ze[-1], c='grey',linestyle='dashed');"
   ]
  },
  {
   "cell_type": "code",
   "execution_count": 103,
   "metadata": {},
   "outputs": [],
   "source": [
    "alpha = 0.05\n",
    "upper_bound = yhat + ze.quantile(1-alpha) * np.std(e)\n",
    "lower_bound = yhat + ze.quantile(alpha) * np.std(e)"
   ]
  },
  {
   "cell_type": "code",
   "execution_count": 104,
   "metadata": {},
   "outputs": [
    {
     "data": {
      "image/png": "[encoded data removed]",
      "text/plain": [
       "<Figure size 576x576 with 1 Axes>"
      ]
     },
     "metadata": {
      "needs_background": "light"
     },
     "output_type": "display_data"
    }
   ],
   "source": [
    "plt.figure(figsize=(8,8))\n",
    "plt.plot(x,y, c='lightblue')\n",
    "plt.plot(x,yhat, c='red',linestyle='dashed')\n",
    "plt.plot(x, upper_bound,c='gray', linestyle='dashed')\n",
    "plt.plot(x, lower_bound,c='gray', linestyle='dashed');"
   ]
  },
  {
   "cell_type": "code",
   "execution_count": 105,
   "metadata": {},
   "outputs": [
    {
     "data": {
      "text/plain": [
       "239.6118771362203"
      ]
     },
     "execution_count": 105,
     "metadata": {},
     "output_type": "execute_result"
    }
   ],
   "source": [
    "lower_bound[-1]"
   ]
  },
  {
   "cell_type": "code",
   "execution_count": 106,
   "metadata": {},
   "outputs": [
    {
     "data": {
      "text/plain": [
       "-0.8612836299764108"
      ]
     },
     "execution_count": 106,
     "metadata": {},
     "output_type": "execute_result"
    }
   ],
   "source": [
    "ze[-1]"
   ]
  },
  {
   "cell_type": "code",
   "execution_count": 107,
   "metadata": {},
   "outputs": [
    {
     "data": {
      "text/plain": [
       "0.12227324913892078"
      ]
     },
     "execution_count": 107,
     "metadata": {},
     "output_type": "execute_result"
    }
   ],
   "source": [
    "len(ze[ze < ze[-1]])/len(ze)"
   ]
  },
  {
   "cell_type": "code",
   "execution_count": 108,
   "metadata": {},
   "outputs": [
    {
     "data": {
      "text/html": [
       "<div>\n",
       "<style scoped>\n",
       "    .dataframe tbody tr th:only-of-type {\n",
       "        vertical-align: middle;\n",
       "    }\n",
       "\n",
       "    .dataframe tbody tr th {\n",
       "        vertical-align: top;\n",
       "    }\n",
       "\n",
       "    .dataframe thead th {\n",
       "        text-align: right;\n",
       "    }\n",
       "</style>\n",
       "<table border=\"1\" class=\"dataframe\">\n",
       "  <thead>\n",
       "    <tr style=\"text-align: right;\">\n",
       "      <th></th>\n",
       "      <th>Open</th>\n",
       "      <th>High</th>\n",
       "      <th>Low</th>\n",
       "      <th>Close</th>\n",
       "      <th>Volume</th>\n",
       "      <th>Currency</th>\n",
       "    </tr>\n",
       "    <tr>\n",
       "      <th>Date</th>\n",
       "      <th></th>\n",
       "      <th></th>\n",
       "      <th></th>\n",
       "      <th></th>\n",
       "      <th></th>\n",
       "      <th></th>\n",
       "    </tr>\n",
       "  </thead>\n",
       "  <tbody>\n",
       "    <tr>\n",
       "      <th>2021-04-27</th>\n",
       "      <td>23.82</td>\n",
       "      <td>24.17</td>\n",
       "      <td>23.10</td>\n",
       "      <td>23.10</td>\n",
       "      <td>75803200</td>\n",
       "      <td>BRL</td>\n",
       "    </tr>\n",
       "    <tr>\n",
       "      <th>2021-04-28</th>\n",
       "      <td>23.40</td>\n",
       "      <td>24.09</td>\n",
       "      <td>23.36</td>\n",
       "      <td>23.94</td>\n",
       "      <td>65861100</td>\n",
       "      <td>BRL</td>\n",
       "    </tr>\n",
       "    <tr>\n",
       "      <th>2021-04-29</th>\n",
       "      <td>24.12</td>\n",
       "      <td>24.29</td>\n",
       "      <td>23.42</td>\n",
       "      <td>23.62</td>\n",
       "      <td>49200500</td>\n",
       "      <td>BRL</td>\n",
       "    </tr>\n",
       "    <tr>\n",
       "      <th>2021-04-30</th>\n",
       "      <td>23.40</td>\n",
       "      <td>23.93</td>\n",
       "      <td>23.28</td>\n",
       "      <td>23.62</td>\n",
       "      <td>60379700</td>\n",
       "      <td>BRL</td>\n",
       "    </tr>\n",
       "    <tr>\n",
       "      <th>2021-05-03</th>\n",
       "      <td>23.80</td>\n",
       "      <td>23.81</td>\n",
       "      <td>23.30</td>\n",
       "      <td>23.43</td>\n",
       "      <td>47970600</td>\n",
       "      <td>BRL</td>\n",
       "    </tr>\n",
       "    <tr>\n",
       "      <th>2021-05-04</th>\n",
       "      <td>23.54</td>\n",
       "      <td>23.64</td>\n",
       "      <td>22.88</td>\n",
       "      <td>22.89</td>\n",
       "      <td>43705000</td>\n",
       "      <td>BRL</td>\n",
       "    </tr>\n",
       "    <tr>\n",
       "      <th>2021-05-05</th>\n",
       "      <td>23.17</td>\n",
       "      <td>23.95</td>\n",
       "      <td>23.12</td>\n",
       "      <td>23.83</td>\n",
       "      <td>75377296</td>\n",
       "      <td>BRL</td>\n",
       "    </tr>\n",
       "    <tr>\n",
       "      <th>2021-05-06</th>\n",
       "      <td>23.71</td>\n",
       "      <td>23.85</td>\n",
       "      <td>23.40</td>\n",
       "      <td>23.50</td>\n",
       "      <td>53646000</td>\n",
       "      <td>BRL</td>\n",
       "    </tr>\n",
       "    <tr>\n",
       "      <th>2021-05-07</th>\n",
       "      <td>23.64</td>\n",
       "      <td>24.45</td>\n",
       "      <td>23.46</td>\n",
       "      <td>24.38</td>\n",
       "      <td>73691000</td>\n",
       "      <td>BRL</td>\n",
       "    </tr>\n",
       "    <tr>\n",
       "      <th>2021-05-10</th>\n",
       "      <td>24.80</td>\n",
       "      <td>24.98</td>\n",
       "      <td>24.58</td>\n",
       "      <td>24.70</td>\n",
       "      <td>73594200</td>\n",
       "      <td>BRL</td>\n",
       "    </tr>\n",
       "    <tr>\n",
       "      <th>2021-05-11</th>\n",
       "      <td>24.44</td>\n",
       "      <td>25.17</td>\n",
       "      <td>24.32</td>\n",
       "      <td>25.15</td>\n",
       "      <td>73355200</td>\n",
       "      <td>BRL</td>\n",
       "    </tr>\n",
       "    <tr>\n",
       "      <th>2021-05-12</th>\n",
       "      <td>24.95</td>\n",
       "      <td>25.53</td>\n",
       "      <td>24.69</td>\n",
       "      <td>24.78</td>\n",
       "      <td>89346200</td>\n",
       "      <td>BRL</td>\n",
       "    </tr>\n",
       "    <tr>\n",
       "      <th>2021-05-13</th>\n",
       "      <td>24.76</td>\n",
       "      <td>25.10</td>\n",
       "      <td>24.43</td>\n",
       "      <td>24.99</td>\n",
       "      <td>76723904</td>\n",
       "      <td>BRL</td>\n",
       "    </tr>\n",
       "    <tr>\n",
       "      <th>2021-05-14</th>\n",
       "      <td>25.80</td>\n",
       "      <td>26.38</td>\n",
       "      <td>25.55</td>\n",
       "      <td>26.28</td>\n",
       "      <td>195808608</td>\n",
       "      <td>BRL</td>\n",
       "    </tr>\n",
       "    <tr>\n",
       "      <th>2021-05-17</th>\n",
       "      <td>26.30</td>\n",
       "      <td>26.66</td>\n",
       "      <td>26.20</td>\n",
       "      <td>26.66</td>\n",
       "      <td>82937504</td>\n",
       "      <td>BRL</td>\n",
       "    </tr>\n",
       "    <tr>\n",
       "      <th>2021-05-18</th>\n",
       "      <td>26.70</td>\n",
       "      <td>26.80</td>\n",
       "      <td>26.27</td>\n",
       "      <td>26.35</td>\n",
       "      <td>62023800</td>\n",
       "      <td>BRL</td>\n",
       "    </tr>\n",
       "    <tr>\n",
       "      <th>2021-05-19</th>\n",
       "      <td>25.85</td>\n",
       "      <td>26.35</td>\n",
       "      <td>25.80</td>\n",
       "      <td>26.15</td>\n",
       "      <td>84349296</td>\n",
       "      <td>BRL</td>\n",
       "    </tr>\n",
       "    <tr>\n",
       "      <th>2021-05-20</th>\n",
       "      <td>26.15</td>\n",
       "      <td>26.28</td>\n",
       "      <td>25.72</td>\n",
       "      <td>25.93</td>\n",
       "      <td>70987600</td>\n",
       "      <td>BRL</td>\n",
       "    </tr>\n",
       "    <tr>\n",
       "      <th>2021-05-21</th>\n",
       "      <td>26.08</td>\n",
       "      <td>26.31</td>\n",
       "      <td>25.94</td>\n",
       "      <td>25.95</td>\n",
       "      <td>81335696</td>\n",
       "      <td>BRL</td>\n",
       "    </tr>\n",
       "    <tr>\n",
       "      <th>2021-05-24</th>\n",
       "      <td>26.28</td>\n",
       "      <td>26.52</td>\n",
       "      <td>25.99</td>\n",
       "      <td>26.39</td>\n",
       "      <td>62784900</td>\n",
       "      <td>BRL</td>\n",
       "    </tr>\n",
       "    <tr>\n",
       "      <th>2021-05-25</th>\n",
       "      <td>26.48</td>\n",
       "      <td>26.62</td>\n",
       "      <td>25.78</td>\n",
       "      <td>25.84</td>\n",
       "      <td>63206400</td>\n",
       "      <td>BRL</td>\n",
       "    </tr>\n",
       "    <tr>\n",
       "      <th>2021-05-26</th>\n",
       "      <td>25.94</td>\n",
       "      <td>26.17</td>\n",
       "      <td>25.66</td>\n",
       "      <td>26.09</td>\n",
       "      <td>46252000</td>\n",
       "      <td>BRL</td>\n",
       "    </tr>\n",
       "  </tbody>\n",
       "</table>\n",
       "</div>"
      ],
      "text/plain": [
       "             Open   High    Low  Close     Volume Currency\n",
       "Date                                                      \n",
       "2021-04-27  23.82  24.17  23.10  23.10   75803200      BRL\n",
       "2021-04-28  23.40  24.09  23.36  23.94   65861100      BRL\n",
       "2021-04-29  24.12  24.29  23.42  23.62   49200500      BRL\n",
       "2021-04-30  23.40  23.93  23.28  23.62   60379700      BRL\n",
       "2021-05-03  23.80  23.81  23.30  23.43   47970600      BRL\n",
       "2021-05-04  23.54  23.64  22.88  22.89   43705000      BRL\n",
       "2021-05-05  23.17  23.95  23.12  23.83   75377296      BRL\n",
       "2021-05-06  23.71  23.85  23.40  23.50   53646000      BRL\n",
       "2021-05-07  23.64  24.45  23.46  24.38   73691000      BRL\n",
       "2021-05-10  24.80  24.98  24.58  24.70   73594200      BRL\n",
       "2021-05-11  24.44  25.17  24.32  25.15   73355200      BRL\n",
       "2021-05-12  24.95  25.53  24.69  24.78   89346200      BRL\n",
       "2021-05-13  24.76  25.10  24.43  24.99   76723904      BRL\n",
       "2021-05-14  25.80  26.38  25.55  26.28  195808608      BRL\n",
       "2021-05-17  26.30  26.66  26.20  26.66   82937504      BRL\n",
       "2021-05-18  26.70  26.80  26.27  26.35   62023800      BRL\n",
       "2021-05-19  25.85  26.35  25.80  26.15   84349296      BRL\n",
       "2021-05-20  26.15  26.28  25.72  25.93   70987600      BRL\n",
       "2021-05-21  26.08  26.31  25.94  25.95   81335696      BRL\n",
       "2021-05-24  26.28  26.52  25.99  26.39   62784900      BRL\n",
       "2021-05-25  26.48  26.62  25.78  25.84   63206400      BRL\n",
       "2021-05-26  25.94  26.17  25.66  26.09   46252000      BRL"
      ]
     },
     "execution_count": 108,
     "metadata": {},
     "output_type": "execute_result"
    }
   ],
   "source": [
    "ip.get_stock_recent_data('petr4','brazil')"
   ]
  },
  {
   "cell_type": "code",
   "execution_count": 109,
   "metadata": {},
   "outputs": [
    {
     "data": {
      "text/plain": [
       "['__author__',\n",
       " '__builtins__',\n",
       " '__cached__',\n",
       " '__doc__',\n",
       " '__file__',\n",
       " '__loader__',\n",
       " '__name__',\n",
       " '__package__',\n",
       " '__path__',\n",
       " '__spec__',\n",
       " '__version__',\n",
       " 'bonds',\n",
       " 'certificates',\n",
       " 'commodities',\n",
       " 'crypto',\n",
       " 'currency_crosses',\n",
       " 'data',\n",
       " 'economic_calendar',\n",
       " 'etfs',\n",
       " 'funds',\n",
       " 'get_available_currencies',\n",
       " 'get_bond_countries',\n",
       " 'get_bond_historical_data',\n",
       " 'get_bond_information',\n",
       " 'get_bond_recent_data',\n",
       " 'get_bonds',\n",
       " 'get_bonds_dict',\n",
       " 'get_bonds_list',\n",
       " 'get_bonds_overview',\n",
       " 'get_certificate_countries',\n",
       " 'get_certificate_historical_data',\n",
       " 'get_certificate_information',\n",
       " 'get_certificate_recent_data',\n",
       " 'get_certificates',\n",
       " 'get_certificates_dict',\n",
       " 'get_certificates_list',\n",
       " 'get_certificates_overview',\n",
       " 'get_commodities',\n",
       " 'get_commodities_dict',\n",
       " 'get_commodities_list',\n",
       " 'get_commodities_overview',\n",
       " 'get_commodity_groups',\n",
       " 'get_commodity_historical_data',\n",
       " 'get_commodity_information',\n",
       " 'get_commodity_recent_data',\n",
       " 'get_crypto_historical_data',\n",
       " 'get_crypto_information',\n",
       " 'get_crypto_recent_data',\n",
       " 'get_cryptos',\n",
       " 'get_cryptos_dict',\n",
       " 'get_cryptos_list',\n",
       " 'get_cryptos_overview',\n",
       " 'get_currency_cross_historical_data',\n",
       " 'get_currency_cross_information',\n",
       " 'get_currency_cross_recent_data',\n",
       " 'get_currency_crosses',\n",
       " 'get_currency_crosses_dict',\n",
       " 'get_currency_crosses_list',\n",
       " 'get_currency_crosses_overview',\n",
       " 'get_etf_countries',\n",
       " 'get_etf_historical_data',\n",
       " 'get_etf_information',\n",
       " 'get_etf_recent_data',\n",
       " 'get_etfs',\n",
       " 'get_etfs_dict',\n",
       " 'get_etfs_list',\n",
       " 'get_etfs_overview',\n",
       " 'get_fund_countries',\n",
       " 'get_fund_historical_data',\n",
       " 'get_fund_information',\n",
       " 'get_fund_recent_data',\n",
       " 'get_funds',\n",
       " 'get_funds_dict',\n",
       " 'get_funds_list',\n",
       " 'get_funds_overview',\n",
       " 'get_index_countries',\n",
       " 'get_index_historical_data',\n",
       " 'get_index_information',\n",
       " 'get_index_recent_data',\n",
       " 'get_indices',\n",
       " 'get_indices_dict',\n",
       " 'get_indices_list',\n",
       " 'get_indices_overview',\n",
       " 'get_stock_company_profile',\n",
       " 'get_stock_countries',\n",
       " 'get_stock_dividends',\n",
       " 'get_stock_financial_summary',\n",
       " 'get_stock_historical_data',\n",
       " 'get_stock_information',\n",
       " 'get_stock_recent_data',\n",
       " 'get_stocks',\n",
       " 'get_stocks_dict',\n",
       " 'get_stocks_list',\n",
       " 'get_stocks_overview',\n",
       " 'indices',\n",
       " 'moving_averages',\n",
       " 'news',\n",
       " 'pivot_points',\n",
       " 'search',\n",
       " 'search_bonds',\n",
       " 'search_certificates',\n",
       " 'search_commodities',\n",
       " 'search_cryptos',\n",
       " 'search_currency_crosses',\n",
       " 'search_etfs',\n",
       " 'search_events',\n",
       " 'search_funds',\n",
       " 'search_indices',\n",
       " 'search_quotes',\n",
       " 'search_stocks',\n",
       " 'stocks',\n",
       " 'technical',\n",
       " 'technical_indicators',\n",
       " 'utils']"
      ]
     },
     "execution_count": 109,
     "metadata": {},
     "output_type": "execute_result"
    }
   ],
   "source": [
    "dir(ip)"
   ]
  },
  {
   "cell_type": "code",
   "execution_count": 110,
   "metadata": {},
   "outputs": [],
   "source": [
    "from scipy.stats import kurtosis, norm"
   ]
  },
  {
   "cell_type": "code",
   "execution_count": 138,
   "metadata": {},
   "outputs": [
    {
     "data": {
      "text/plain": [
       "-2.7328566760003855e-15"
      ]
     },
     "execution_count": 138,
     "metadata": {},
     "output_type": "execute_result"
    }
   ],
   "source": [
    "ze.mean()"
   ]
  },
  {
   "cell_type": "code",
   "execution_count": 180,
   "metadata": {},
   "outputs": [],
   "source": [
    "def right_kurtosis(x=ze):\n",
    "    \n",
    "    from scipy.stats import kurtosis\n",
    "    \n",
    "    x = np.array(x)\n",
    "    a = x[x > 0]\n",
    "    b = -1 * a\n",
    "    transformed_x = np.concatenate([a,b])\n",
    "    output = kurtosis(transformed_x, fisher=False)\n",
    "    \n",
    "    return(output)"
   ]
  },
  {
   "cell_type": "code",
   "execution_count": 181,
   "metadata": {},
   "outputs": [
    {
     "data": {
      "text/plain": [
       "7.265001311473389"
      ]
     },
     "execution_count": 181,
     "metadata": {},
     "output_type": "execute_result"
    }
   ],
   "source": [
    "right_kurtosis(ze)"
   ]
  },
  {
   "cell_type": "code",
   "execution_count": 182,
   "metadata": {},
   "outputs": [
    {
     "data": {
      "text/plain": [
       "5.4012131254327365"
      ]
     },
     "execution_count": 182,
     "metadata": {},
     "output_type": "execute_result"
    }
   ],
   "source": [
    "kurtosis(ze)"
   ]
  },
  {
   "cell_type": "code",
   "execution_count": 183,
   "metadata": {},
   "outputs": [
    {
     "data": {
      "text/plain": [
       "8.388360210786573"
      ]
     },
     "execution_count": 183,
     "metadata": {},
     "output_type": "execute_result"
    }
   ],
   "source": [
    "right_kurtosis(-ze)"
   ]
  },
  {
   "cell_type": "code",
   "execution_count": 184,
   "metadata": {},
   "outputs": [
    {
     "data": {
      "text/plain": [
       "1.7998467826885074"
      ]
     },
     "execution_count": 184,
     "metadata": {},
     "output_type": "execute_result"
    }
   ],
   "source": [
    "from scipy.stats import norm, uniform\n",
    "Z = uniform.rvs(size=int(1e6))\n",
    "kurtosis(Z, fisher=False)"
   ]
  },
  {
   "cell_type": "code",
   "execution_count": 185,
   "metadata": {},
   "outputs": [
    {
     "data": {
      "text/plain": [
       "1.8006253101511787"
      ]
     },
     "execution_count": 185,
     "metadata": {},
     "output_type": "execute_result"
    }
   ],
   "source": [
    "right_kurtosis(Z)"
   ]
  },
  {
   "cell_type": "code",
   "execution_count": null,
   "metadata": {},
   "outputs": [],
   "source": []
  }
 ],
 "metadata": {
  "kernelspec": {
   "display_name": "Python 3",
   "language": "python",
   "name": "python3"
  },
  "language_info": {
   "codemirror_mode": {
    "name": "ipython",
    "version": 3
   },
   "file_extension": ".py",
   "mimetype": "text/x-python",
   "name": "python",
   "nbconvert_exporter": "python",
   "pygments_lexer": "ipython3",
   "version": "3.8.5"
  }
 },
 "nbformat": 4,
 "nbformat_minor": 4
}
