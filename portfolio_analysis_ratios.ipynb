{
 "cells": [
  {
   "cell_type": "code",
   "execution_count": 1,
   "metadata": {},
   "outputs": [],
   "source": [
    "import investpy as ip\n",
    "from datetime import datetime\n",
    "import numpy as np\n",
    "from tqdm import tqdm\n",
    "import pandas as pd\n",
    "import quantstats as qs\n",
    "import warnings\n",
    "warnings.filterwarnings('ignore')"
   ]
  },
  {
   "cell_type": "code",
   "execution_count": 2,
   "metadata": {},
   "outputs": [],
   "source": [
    "today = datetime.today().date().strftime('%d/%m/%Y')\n",
    "start_of_year = f'1/1/{datetime.today().date().year}'"
   ]
  },
  {
   "cell_type": "code",
   "execution_count": 3,
   "metadata": {},
   "outputs": [],
   "source": [
    "def get_prices(assets,\n",
    "                      amounts,\n",
    "                      types = None,\n",
    "                      rf=0.02,\n",
    "                      num_sim = 5000,\n",
    "                      from_date = start_of_year,\n",
    "                      to_date = today,\n",
    "                      last_month=False, #overrides from_date and to_date\n",
    "                      show_current_performance=True, \n",
    "                      plot_frontier=True,\n",
    "                      plot_simulations=True,\n",
    "                      plot_stocks=True):\n",
    "    \n",
    "    if types == None:\n",
    "        types = ['stock' for i in range(len(assets))]\n",
    "    \n",
    "    assert len(assets) == len(amounts) == len(types)\n",
    "    \n",
    "    #Create allocation dataframe\n",
    "    alloc = pd.DataFrame({'Name': assets, 'Allocation': amounts})\n",
    "    alloc['Allocation'] = alloc.Allocation / sum(alloc.Allocation)\n",
    "    assert sum(alloc.Allocation)\n",
    "    \n",
    "    #Get prices\n",
    "    prices = pd.DataFrame([], columns = assets)\n",
    "    for i, s in tqdm(enumerate(assets)):\n",
    "        if last_month:\n",
    "            if types[i] == 'stock':\n",
    "                prices[s] = ip.get_stock_recent_data(s, 'brazil').Close\n",
    "            elif types[i] == 'etf':\n",
    "                prices[s] = ip.get_etf_recent_data(s, 'brazil').Close\n",
    "            else:\n",
    "                pass\n",
    "        else:\n",
    "            if types[i] == 'stock':\n",
    "                prices[s] = ip.get_stock_historical_data(s, 'brazil', from_date=from_date, to_date=to_date).Close\n",
    "            elif types[i] == 'etf':\n",
    "                prices[s] = ip.get_etf_historical_data(s, 'brazil', from_date=from_date, to_date=to_date).Close\n",
    "            else:\n",
    "                pass\n",
    "    \n",
    "    return(prices)"
   ]
  },
  {
   "cell_type": "code",
   "execution_count": 4,
   "metadata": {},
   "outputs": [
    {
     "name": "stderr",
     "output_type": "stream",
     "text": [
      "5it [00:03,  1.44it/s]\n"
     ]
    }
   ],
   "source": [
    "#== Felipe ==#\n",
    "stocks = ['PETR4', 'MGLU3', 'BBAS3', 'CYRE3', 'Fundo de Invest Ishares SP 500']\n",
    "amounts = [600, 400, 300, 200, 120]\n",
    "types = ['stock','stock','stock','stock','etf']\n",
    "df = get_prices(stocks, amounts, types, from_date='15/03/2020')"
   ]
  },
  {
   "cell_type": "code",
   "execution_count": 5,
   "metadata": {},
   "outputs": [
    {
     "data": {
      "text/plain": [
       "Date\n",
       "2020-03-16         NaN\n",
       "2020-03-17    0.056338\n",
       "2020-03-18   -0.021978\n",
       "2020-03-19   -0.016854\n",
       "2020-03-20   -0.047619\n",
       "                ...   \n",
       "2020-12-28    0.020162\n",
       "2020-12-29   -0.007092\n",
       "2020-12-30    0.000190\n",
       "2021-01-04    0.003618\n",
       "2021-01-05    0.009962\n",
       "Name: Fundo de Invest Ishares SP 500, Length: 201, dtype: float64"
      ]
     },
     "execution_count": 5,
     "metadata": {},
     "output_type": "execute_result"
    }
   ],
   "source": [
    "#== Benchmark == #\n",
    "benchmark = df['Fundo de Invest Ishares SP 500'].pct_change()\n",
    "benchmark"
   ]
  },
  {
   "cell_type": "code",
   "execution_count": 6,
   "metadata": {},
   "outputs": [],
   "source": [
    "df['portfolio'] = df.apply(lambda x: x.dot(amounts)/sum(amounts), axis=1)"
   ]
  },
  {
   "cell_type": "code",
   "execution_count": 7,
   "metadata": {},
   "outputs": [
    {
     "data": {
      "text/html": [
       "<div>\n",
       "<style scoped>\n",
       "    .dataframe tbody tr th:only-of-type {\n",
       "        vertical-align: middle;\n",
       "    }\n",
       "\n",
       "    .dataframe tbody tr th {\n",
       "        vertical-align: top;\n",
       "    }\n",
       "\n",
       "    .dataframe thead th {\n",
       "        text-align: right;\n",
       "    }\n",
       "</style>\n",
       "<table border=\"1\" class=\"dataframe\">\n",
       "  <thead>\n",
       "    <tr style=\"text-align: right;\">\n",
       "      <th></th>\n",
       "      <th>PETR4</th>\n",
       "      <th>MGLU3</th>\n",
       "      <th>BBAS3</th>\n",
       "      <th>CYRE3</th>\n",
       "      <th>Fundo de Invest Ishares SP 500</th>\n",
       "      <th>portfolio</th>\n",
       "    </tr>\n",
       "    <tr>\n",
       "      <th>Date</th>\n",
       "      <th></th>\n",
       "      <th></th>\n",
       "      <th></th>\n",
       "      <th></th>\n",
       "      <th></th>\n",
       "      <th></th>\n",
       "    </tr>\n",
       "  </thead>\n",
       "  <tbody>\n",
       "    <tr>\n",
       "      <th>2020-03-16</th>\n",
       "      <td>13.09</td>\n",
       "      <td>8.50</td>\n",
       "      <td>29.63</td>\n",
       "      <td>16.06</td>\n",
       "      <td>129.22</td>\n",
       "      <td>23.988519</td>\n",
       "    </tr>\n",
       "    <tr>\n",
       "      <th>2020-03-17</th>\n",
       "      <td>13.00</td>\n",
       "      <td>8.87</td>\n",
       "      <td>31.07</td>\n",
       "      <td>15.86</td>\n",
       "      <td>136.50</td>\n",
       "      <td>24.827778</td>\n",
       "    </tr>\n",
       "    <tr>\n",
       "      <th>2020-03-18</th>\n",
       "      <td>11.29</td>\n",
       "      <td>7.19</td>\n",
       "      <td>25.94</td>\n",
       "      <td>12.59</td>\n",
       "      <td>133.50</td>\n",
       "      <td>22.203704</td>\n",
       "    </tr>\n",
       "    <tr>\n",
       "      <th>2020-03-19</th>\n",
       "      <td>12.21</td>\n",
       "      <td>7.62</td>\n",
       "      <td>24.93</td>\n",
       "      <td>13.84</td>\n",
       "      <td>131.25</td>\n",
       "      <td>22.451235</td>\n",
       "    </tr>\n",
       "    <tr>\n",
       "      <th>2020-03-20</th>\n",
       "      <td>12.00</td>\n",
       "      <td>7.65</td>\n",
       "      <td>23.98</td>\n",
       "      <td>13.34</td>\n",
       "      <td>125.00</td>\n",
       "      <td>21.680247</td>\n",
       "    </tr>\n",
       "  </tbody>\n",
       "</table>\n",
       "</div>"
      ],
      "text/plain": [
       "            PETR4  MGLU3  BBAS3  CYRE3  Fundo de Invest Ishares SP 500  \\\n",
       "Date                                                                     \n",
       "2020-03-16  13.09   8.50  29.63  16.06                          129.22   \n",
       "2020-03-17  13.00   8.87  31.07  15.86                          136.50   \n",
       "2020-03-18  11.29   7.19  25.94  12.59                          133.50   \n",
       "2020-03-19  12.21   7.62  24.93  13.84                          131.25   \n",
       "2020-03-20  12.00   7.65  23.98  13.34                          125.00   \n",
       "\n",
       "            portfolio  \n",
       "Date                   \n",
       "2020-03-16  23.988519  \n",
       "2020-03-17  24.827778  \n",
       "2020-03-18  22.203704  \n",
       "2020-03-19  22.451235  \n",
       "2020-03-20  21.680247  "
      ]
     },
     "execution_count": 7,
     "metadata": {},
     "output_type": "execute_result"
    }
   ],
   "source": [
    "df.head()"
   ]
  },
  {
   "cell_type": "code",
   "execution_count": 8,
   "metadata": {},
   "outputs": [
    {
     "ename": "NameError",
     "evalue": "name 'bench_returns' is not defined",
     "output_type": "error",
     "traceback": [
      "\u001b[1;31m---------------------------------------------------------------------------\u001b[0m",
      "\u001b[1;31mNameError\u001b[0m                                 Traceback (most recent call last)",
      "\u001b[1;32m<ipython-input-8-0e59d2f711b3>\u001b[0m in \u001b[0;36m<module>\u001b[1;34m\u001b[0m\n\u001b[1;32m----> 1\u001b[1;33m \u001b[1;32massert\u001b[0m \u001b[0mall\u001b[0m\u001b[1;33m(\u001b[0m\u001b[0mdf\u001b[0m\u001b[1;33m.\u001b[0m\u001b[0mindex\u001b[0m \u001b[1;33m==\u001b[0m \u001b[0mbench_returns\u001b[0m\u001b[1;33m.\u001b[0m\u001b[0mindex\u001b[0m\u001b[1;33m)\u001b[0m\u001b[1;33m\u001b[0m\u001b[1;33m\u001b[0m\u001b[0m\n\u001b[0m",
      "\u001b[1;31mNameError\u001b[0m: name 'bench_returns' is not defined"
     ]
    }
   ],
   "source": [
    "assert all(df.index == bench_returns.index)"
   ]
  },
  {
   "cell_type": "code",
   "execution_count": null,
   "metadata": {},
   "outputs": [],
   "source": [
    "portfolio = df.portfolio.pct_change()"
   ]
  },
  {
   "cell_type": "code",
   "execution_count": null,
   "metadata": {},
   "outputs": [],
   "source": [
    "%matplotlib inline\n",
    "import quantstats as qs"
   ]
  },
  {
   "cell_type": "code",
   "execution_count": null,
   "metadata": {},
   "outputs": [],
   "source": [
    "# show sharpe ratio\n",
    "qs.stats.sharpe(portfolio)"
   ]
  },
  {
   "cell_type": "code",
   "execution_count": null,
   "metadata": {},
   "outputs": [],
   "source": [
    "qs.plots.snapshot(portfolio, title='Portfolio Performance')"
   ]
  },
  {
   "cell_type": "code",
   "execution_count": null,
   "metadata": {},
   "outputs": [],
   "source": [
    "qs.reports.full(portfolio, benchmark)"
   ]
  },
  {
   "cell_type": "code",
   "execution_count": null,
   "metadata": {},
   "outputs": [],
   "source": []
  },
  {
   "cell_type": "code",
   "execution_count": null,
   "metadata": {},
   "outputs": [],
   "source": []
  },
  {
   "cell_type": "code",
   "execution_count": null,
   "metadata": {},
   "outputs": [],
   "source": []
  }
 ],
 "metadata": {
  "kernelspec": {
   "display_name": "Python 3",
   "language": "python",
   "name": "python3"
  },
  "language_info": {
   "codemirror_mode": {
    "name": "ipython",
    "version": 3
   },
   "file_extension": ".py",
   "mimetype": "text/x-python",
   "name": "python",
   "nbconvert_exporter": "python",
   "pygments_lexer": "ipython3",
   "version": "3.8.5"
  }
 },
 "nbformat": 4,
 "nbformat_minor": 4
}
