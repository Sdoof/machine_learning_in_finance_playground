{
 "cells": [
  {
   "cell_type": "code",
   "execution_count": 21,
   "metadata": {},
   "outputs": [
    {
     "name": "stdout",
     "output_type": "stream",
     "text": [
      "Collecting pandas_ta\n",
      "  Downloading pandas_ta-0.2.23b.tar.gz (75 kB)\n",
      "Requirement already satisfied: pandas in c:\\users\\felbu\\miniconda3\\lib\\site-packages (from pandas_ta) (1.2.0)\n",
      "Requirement already satisfied: python-dateutil>=2.7.3 in c:\\users\\felbu\\miniconda3\\lib\\site-packages (from pandas->pandas_ta) (2.8.1)\n",
      "Requirement already satisfied: numpy>=1.16.5 in c:\\users\\felbu\\miniconda3\\lib\\site-packages (from pandas->pandas_ta) (1.18.0)\n",
      "Requirement already satisfied: pytz>=2017.3 in c:\\users\\felbu\\miniconda3\\lib\\site-packages (from pandas->pandas_ta) (2019.3)\n",
      "Requirement already satisfied: six>=1.5 in c:\\users\\felbu\\appdata\\roaming\\python\\python38\\site-packages (from python-dateutil>=2.7.3->pandas->pandas_ta) (1.13.0)\n",
      "Building wheels for collected packages: pandas-ta\n",
      "  Building wheel for pandas-ta (setup.py): started\n",
      "  Building wheel for pandas-ta (setup.py): finished with status 'done'\n",
      "  Created wheel for pandas-ta: filename=pandas_ta-0.2.23b0-py3-none-any.whl size=156159 sha256=de089cf2591f08fd1edca6e212dc29c873f14be0b3b61a6323629ece9c9a8bff\n",
      "  Stored in directory: c:\\users\\felbu\\appdata\\local\\pip\\cache\\wheels\\bf\\32\\bb\\bda00fd30fd6e5b13ae2776509304f8bb03ee4135e56704e33\n",
      "Successfully built pandas-ta\n",
      "Installing collected packages: pandas-ta\n",
      "Successfully installed pandas-ta-0.2.23b0\n"
     ]
    }
   ],
   "source": [
    "!pip install pandas_ta"
   ]
  },
  {
   "cell_type": "code",
   "execution_count": 52,
   "metadata": {},
   "outputs": [],
   "source": [
    "import investpy as ip\n",
    "from datetime import datetime\n",
    "from tqdm import tqdm\n",
    "import pandas as pd\n",
    "import quantstats as qs\n",
    "import numpy as np\n",
    "import warnings\n",
    "warnings.filterwarnings('ignore')"
   ]
  },
  {
   "cell_type": "code",
   "execution_count": 53,
   "metadata": {},
   "outputs": [],
   "source": [
    "import pandas_ta as ta\n",
    "import investpy as ip"
   ]
  },
  {
   "cell_type": "code",
   "execution_count": 168,
   "metadata": {},
   "outputs": [],
   "source": [
    "today = datetime.today().date().strftime('%d/%m/%Y')\n",
    "#start_of_year = f'1/1/{datetime.today().date().year}'\n",
    "start_of_year = '01/01/2020'"
   ]
  },
  {
   "cell_type": "code",
   "execution_count": 169,
   "metadata": {},
   "outputs": [],
   "source": [
    "tickers = list(ip.get_stocks(country='brazil').symbol)\n",
    "#tickers = tickers[0:5]\n",
    "stock = tickers[0]"
   ]
  },
  {
   "cell_type": "code",
   "execution_count": 170,
   "metadata": {},
   "outputs": [],
   "source": [
    "price = ip.get_stock_historical_data(stock, 'brazil', from_date=start_of_year, to_date=today)"
   ]
  },
  {
   "cell_type": "code",
   "execution_count": 171,
   "metadata": {},
   "outputs": [],
   "source": [
    "macdh = price.ta.macd(10,18,9).iloc[:,1]"
   ]
  },
  {
   "cell_type": "code",
   "execution_count": 172,
   "metadata": {},
   "outputs": [
    {
     "data": {
      "text/plain": [
       "date\n",
       "2020-01-02         NaN\n",
       "2020-01-03         NaN\n",
       "2020-01-06         NaN\n",
       "2020-01-07         NaN\n",
       "2020-01-08         NaN\n",
       "                ...   \n",
       "2021-01-13    0.014209\n",
       "2021-01-14    0.028014\n",
       "2021-01-15   -0.000137\n",
       "2021-01-18   -0.013560\n",
       "2021-01-19   -0.041879\n",
       "Name: MACDh_10_18_9, Length: 261, dtype: float64"
      ]
     },
     "execution_count": 172,
     "metadata": {},
     "output_type": "execute_result"
    }
   ],
   "source": [
    "macdh"
   ]
  },
  {
   "cell_type": "code",
   "execution_count": 173,
   "metadata": {},
   "outputs": [],
   "source": [
    "sell_dates = macdh.index[np.where(np.sign(macdh).diff() == -2)]\n",
    "buy_dates = macdh.index[np.where(np.sign(macdh).diff() == +2)]"
   ]
  },
  {
   "cell_type": "code",
   "execution_count": 174,
   "metadata": {},
   "outputs": [
    {
     "data": {
      "text/plain": [
       "-0.04187881780123626"
      ]
     },
     "execution_count": 174,
     "metadata": {},
     "output_type": "execute_result"
    }
   ],
   "source": [
    "macdh[-1]"
   ]
  },
  {
   "cell_type": "code",
   "execution_count": 175,
   "metadata": {},
   "outputs": [
    {
     "data": {
      "text/plain": [
       "DatetimeIndex(['2020-02-05', '2020-03-25', '2020-05-20', '2020-07-09',\n",
       "               '2020-08-21', '2020-10-07', '2020-11-09', '2020-12-22'],\n",
       "              dtype='datetime64[ns]', name='date', freq=None)"
      ]
     },
     "execution_count": 175,
     "metadata": {},
     "output_type": "execute_result"
    }
   ],
   "source": [
    "buy_dates"
   ]
  },
  {
   "cell_type": "code",
   "execution_count": 119,
   "metadata": {},
   "outputs": [
    {
     "data": {
      "text/html": [
       "<div>\n",
       "<style scoped>\n",
       "    .dataframe tbody tr th:only-of-type {\n",
       "        vertical-align: middle;\n",
       "    }\n",
       "\n",
       "    .dataframe tbody tr th {\n",
       "        vertical-align: top;\n",
       "    }\n",
       "\n",
       "    .dataframe thead th {\n",
       "        text-align: right;\n",
       "    }\n",
       "</style>\n",
       "<table border=\"1\" class=\"dataframe\">\n",
       "  <thead>\n",
       "    <tr style=\"text-align: right;\">\n",
       "      <th></th>\n",
       "      <th>most_recent_buy_date</th>\n",
       "    </tr>\n",
       "  </thead>\n",
       "  <tbody>\n",
       "    <tr>\n",
       "      <th>ABCB4</th>\n",
       "      <td>NaN</td>\n",
       "    </tr>\n",
       "    <tr>\n",
       "      <th>AGRO3</th>\n",
       "      <td>NaN</td>\n",
       "    </tr>\n",
       "    <tr>\n",
       "      <th>RAIL3</th>\n",
       "      <td>NaN</td>\n",
       "    </tr>\n",
       "    <tr>\n",
       "      <th>ALPA3</th>\n",
       "      <td>NaN</td>\n",
       "    </tr>\n",
       "    <tr>\n",
       "      <th>ALPA4</th>\n",
       "      <td>NaN</td>\n",
       "    </tr>\n",
       "  </tbody>\n",
       "</table>\n",
       "</div>"
      ],
      "text/plain": [
       "      most_recent_buy_date\n",
       "ABCB4                  NaN\n",
       "AGRO3                  NaN\n",
       "RAIL3                  NaN\n",
       "ALPA3                  NaN\n",
       "ALPA4                  NaN"
      ]
     },
     "execution_count": 119,
     "metadata": {},
     "output_type": "execute_result"
    }
   ],
   "source": [
    "df = pd.DataFrame([], index=tickers, columns=['most_recent_buy_date','macdh'])\n",
    "df.head()"
   ]
  },
  {
   "cell_type": "code",
   "execution_count": 133,
   "metadata": {},
   "outputs": [
    {
     "name": "stderr",
     "output_type": "stream",
     "text": [
      "100%|████████████████████████████████████████████████████████████████████████████████| 749/749 [07:57<00:00,  1.57it/s]\n"
     ]
    }
   ],
   "source": [
    "success, fail = 0, 0\n",
    "for t in tqdm(tickers):\n",
    "    \n",
    "    try:\n",
    "        price = ip.get_stock_historical_data(t, 'brazil', from_date=start_of_year, to_date=today)\n",
    "        macdh = price.ta.macd(10,18,9).iloc[:,1]\n",
    "        buy_dates = macdh.index[np.where(np.sign(macdh).diff() == +2)]\n",
    "\n",
    "        sell_dates = macdh.index[np.where(np.sign(macdh).diff() == -2)]\n",
    "        most_recent_buy_date = max(buy_dates)\n",
    "        most_recent_sell_date = max(sell_dates)\n",
    "\n",
    "        #If the most recent signal was a buy signal... \n",
    "        if most_recent_buy_date > most_recent_sell_date:\n",
    "            #put this stock into the list\n",
    "            df.loc[t,'most_recent_buy_date'] = most_recent_buy_date\n",
    "            df.loc[t,'macdh'] = macdh[-1]\n",
    "        \n",
    "        success +=1\n",
    "        \n",
    "    except:\n",
    "        fail += 1"
   ]
  },
  {
   "cell_type": "code",
   "execution_count": 134,
   "metadata": {},
   "outputs": [
    {
     "data": {
      "text/html": [
       "<div>\n",
       "<style scoped>\n",
       "    .dataframe tbody tr th:only-of-type {\n",
       "        vertical-align: middle;\n",
       "    }\n",
       "\n",
       "    .dataframe tbody tr th {\n",
       "        vertical-align: top;\n",
       "    }\n",
       "\n",
       "    .dataframe thead th {\n",
       "        text-align: right;\n",
       "    }\n",
       "</style>\n",
       "<table border=\"1\" class=\"dataframe\">\n",
       "  <thead>\n",
       "    <tr style=\"text-align: right;\">\n",
       "      <th></th>\n",
       "      <th>most_recent_buy_date</th>\n",
       "      <th>macdh</th>\n",
       "    </tr>\n",
       "  </thead>\n",
       "  <tbody>\n",
       "    <tr>\n",
       "      <th>AALL34</th>\n",
       "      <td>2021-01-19 00:00:00</td>\n",
       "      <td>0.126914</td>\n",
       "    </tr>\n",
       "    <tr>\n",
       "      <th>OUJP11</th>\n",
       "      <td>2021-01-19 00:00:00</td>\n",
       "      <td>0.054281</td>\n",
       "    </tr>\n",
       "    <tr>\n",
       "      <th>CVBI11</th>\n",
       "      <td>2021-01-19 00:00:00</td>\n",
       "      <td>0.037500</td>\n",
       "    </tr>\n",
       "    <tr>\n",
       "      <th>ALPA3</th>\n",
       "      <td>2021-01-19 00:00:00</td>\n",
       "      <td>0.033742</td>\n",
       "    </tr>\n",
       "    <tr>\n",
       "      <th>BMEB3</th>\n",
       "      <td>2021-01-19 00:00:00</td>\n",
       "      <td>0.032313</td>\n",
       "    </tr>\n",
       "    <tr>\n",
       "      <th>LAME4</th>\n",
       "      <td>2021-01-19 00:00:00</td>\n",
       "      <td>0.028654</td>\n",
       "    </tr>\n",
       "    <tr>\n",
       "      <th>MDTC34</th>\n",
       "      <td>2021-01-19 00:00:00</td>\n",
       "      <td>0.028446</td>\n",
       "    </tr>\n",
       "    <tr>\n",
       "      <th>IGTA3</th>\n",
       "      <td>2021-01-19 00:00:00</td>\n",
       "      <td>0.024079</td>\n",
       "    </tr>\n",
       "    <tr>\n",
       "      <th>TASA17</th>\n",
       "      <td>2021-01-19 00:00:00</td>\n",
       "      <td>0.020167</td>\n",
       "    </tr>\n",
       "    <tr>\n",
       "      <th>BRML3</th>\n",
       "      <td>2021-01-19 00:00:00</td>\n",
       "      <td>0.012087</td>\n",
       "    </tr>\n",
       "    <tr>\n",
       "      <th>PTNT4</th>\n",
       "      <td>2021-01-19 00:00:00</td>\n",
       "      <td>0.009116</td>\n",
       "    </tr>\n",
       "    <tr>\n",
       "      <th>KNRE11</th>\n",
       "      <td>2021-01-19 00:00:00</td>\n",
       "      <td>0.002952</td>\n",
       "    </tr>\n",
       "    <tr>\n",
       "      <th>MMXM11</th>\n",
       "      <td>2021-01-19 00:00:00</td>\n",
       "      <td>0.002098</td>\n",
       "    </tr>\n",
       "    <tr>\n",
       "      <th>AMAR3</th>\n",
       "      <td>2021-01-19 00:00:00</td>\n",
       "      <td>0.001330</td>\n",
       "    </tr>\n",
       "    <tr>\n",
       "      <th>SHPH11</th>\n",
       "      <td>2021-01-18 00:00:00</td>\n",
       "      <td>0.443882</td>\n",
       "    </tr>\n",
       "    <tr>\n",
       "      <th>WLMM3</th>\n",
       "      <td>2021-01-18 00:00:00</td>\n",
       "      <td>0.432564</td>\n",
       "    </tr>\n",
       "    <tr>\n",
       "      <th>HCRI11</th>\n",
       "      <td>2021-01-18 00:00:00</td>\n",
       "      <td>0.374815</td>\n",
       "    </tr>\n",
       "    <tr>\n",
       "      <th>SUZB3</th>\n",
       "      <td>2021-01-18 00:00:00</td>\n",
       "      <td>0.211789</td>\n",
       "    </tr>\n",
       "    <tr>\n",
       "      <th>EDFO11B</th>\n",
       "      <td>2021-01-18 00:00:00</td>\n",
       "      <td>0.108791</td>\n",
       "    </tr>\n",
       "    <tr>\n",
       "      <th>FIIP11B</th>\n",
       "      <td>2021-01-18 00:00:00</td>\n",
       "      <td>0.101379</td>\n",
       "    </tr>\n",
       "    <tr>\n",
       "      <th>ANIM3</th>\n",
       "      <td>2021-01-18 00:00:00</td>\n",
       "      <td>0.095002</td>\n",
       "    </tr>\n",
       "    <tr>\n",
       "      <th>RBGS11</th>\n",
       "      <td>2021-01-18 00:00:00</td>\n",
       "      <td>0.085135</td>\n",
       "    </tr>\n",
       "    <tr>\n",
       "      <th>HETA4</th>\n",
       "      <td>2021-01-18 00:00:00</td>\n",
       "      <td>0.084172</td>\n",
       "    </tr>\n",
       "    <tr>\n",
       "      <th>TASA3</th>\n",
       "      <td>2021-01-18 00:00:00</td>\n",
       "      <td>0.081232</td>\n",
       "    </tr>\n",
       "    <tr>\n",
       "      <th>MMXM3</th>\n",
       "      <td>2021-01-18 00:00:00</td>\n",
       "      <td>0.079234</td>\n",
       "    </tr>\n",
       "    <tr>\n",
       "      <th>OSXB3</th>\n",
       "      <td>2021-01-18 00:00:00</td>\n",
       "      <td>0.070048</td>\n",
       "    </tr>\n",
       "    <tr>\n",
       "      <th>HGFF11</th>\n",
       "      <td>2021-01-18 00:00:00</td>\n",
       "      <td>0.066950</td>\n",
       "    </tr>\n",
       "    <tr>\n",
       "      <th>RBED11</th>\n",
       "      <td>2021-01-18 00:00:00</td>\n",
       "      <td>0.058686</td>\n",
       "    </tr>\n",
       "    <tr>\n",
       "      <th>ATTB34</th>\n",
       "      <td>2021-01-18 00:00:00</td>\n",
       "      <td>0.053344</td>\n",
       "    </tr>\n",
       "    <tr>\n",
       "      <th>HMOC11</th>\n",
       "      <td>2021-01-18 00:00:00</td>\n",
       "      <td>0.049133</td>\n",
       "    </tr>\n",
       "    <tr>\n",
       "      <th>CRIV3</th>\n",
       "      <td>2021-01-18 00:00:00</td>\n",
       "      <td>0.048458</td>\n",
       "    </tr>\n",
       "    <tr>\n",
       "      <th>AZUL4</th>\n",
       "      <td>2021-01-18 00:00:00</td>\n",
       "      <td>0.032767</td>\n",
       "    </tr>\n",
       "    <tr>\n",
       "      <th>ALUP4</th>\n",
       "      <td>2021-01-18 00:00:00</td>\n",
       "      <td>0.013796</td>\n",
       "    </tr>\n",
       "    <tr>\n",
       "      <th>BBRK3</th>\n",
       "      <td>2021-01-18 00:00:00</td>\n",
       "      <td>0.003746</td>\n",
       "    </tr>\n",
       "    <tr>\n",
       "      <th>EUCA4</th>\n",
       "      <td>2021-01-18 00:00:00</td>\n",
       "      <td>0.001462</td>\n",
       "    </tr>\n",
       "    <tr>\n",
       "      <th>FSRF11</th>\n",
       "      <td>2021-01-18 00:00:00</td>\n",
       "      <td>0.000623</td>\n",
       "    </tr>\n",
       "    <tr>\n",
       "      <th>ARZZ3</th>\n",
       "      <td>2021-01-15 00:00:00</td>\n",
       "      <td>0.548858</td>\n",
       "    </tr>\n",
       "    <tr>\n",
       "      <th>OUCY11</th>\n",
       "      <td>2021-01-15 00:00:00</td>\n",
       "      <td>0.229678</td>\n",
       "    </tr>\n",
       "    <tr>\n",
       "      <th>ALPA4</th>\n",
       "      <td>2021-01-15 00:00:00</td>\n",
       "      <td>0.159500</td>\n",
       "    </tr>\n",
       "    <tr>\n",
       "      <th>RBRP11</th>\n",
       "      <td>2021-01-15 00:00:00</td>\n",
       "      <td>0.158800</td>\n",
       "    </tr>\n",
       "    <tr>\n",
       "      <th>RDNI3</th>\n",
       "      <td>2021-01-15 00:00:00</td>\n",
       "      <td>0.069242</td>\n",
       "    </tr>\n",
       "    <tr>\n",
       "      <th>CEAB3</th>\n",
       "      <td>2021-01-15 00:00:00</td>\n",
       "      <td>0.058727</td>\n",
       "    </tr>\n",
       "    <tr>\n",
       "      <th>LAME3</th>\n",
       "      <td>2021-01-15 00:00:00</td>\n",
       "      <td>0.053973</td>\n",
       "    </tr>\n",
       "    <tr>\n",
       "      <th>EVEN3</th>\n",
       "      <td>2021-01-15 00:00:00</td>\n",
       "      <td>0.044180</td>\n",
       "    </tr>\n",
       "    <tr>\n",
       "      <th>CPFE3</th>\n",
       "      <td>2021-01-15 00:00:00</td>\n",
       "      <td>0.030890</td>\n",
       "    </tr>\n",
       "    <tr>\n",
       "      <th>CCPR3</th>\n",
       "      <td>2021-01-15 00:00:00</td>\n",
       "      <td>0.029173</td>\n",
       "    </tr>\n",
       "    <tr>\n",
       "      <th>ALUP11</th>\n",
       "      <td>2021-01-15 00:00:00</td>\n",
       "      <td>0.029052</td>\n",
       "    </tr>\n",
       "    <tr>\n",
       "      <th>TRIS3</th>\n",
       "      <td>2021-01-15 00:00:00</td>\n",
       "      <td>0.021524</td>\n",
       "    </tr>\n",
       "    <tr>\n",
       "      <th>JHSF3</th>\n",
       "      <td>2021-01-15 00:00:00</td>\n",
       "      <td>0.017229</td>\n",
       "    </tr>\n",
       "    <tr>\n",
       "      <th>VULC3</th>\n",
       "      <td>2021-01-15 00:00:00</td>\n",
       "      <td>0.011731</td>\n",
       "    </tr>\n",
       "  </tbody>\n",
       "</table>\n",
       "</div>"
      ],
      "text/plain": [
       "        most_recent_buy_date     macdh\n",
       "AALL34   2021-01-19 00:00:00  0.126914\n",
       "OUJP11   2021-01-19 00:00:00  0.054281\n",
       "CVBI11   2021-01-19 00:00:00  0.037500\n",
       "ALPA3    2021-01-19 00:00:00  0.033742\n",
       "BMEB3    2021-01-19 00:00:00  0.032313\n",
       "LAME4    2021-01-19 00:00:00  0.028654\n",
       "MDTC34   2021-01-19 00:00:00  0.028446\n",
       "IGTA3    2021-01-19 00:00:00  0.024079\n",
       "TASA17   2021-01-19 00:00:00  0.020167\n",
       "BRML3    2021-01-19 00:00:00  0.012087\n",
       "PTNT4    2021-01-19 00:00:00  0.009116\n",
       "KNRE11   2021-01-19 00:00:00  0.002952\n",
       "MMXM11   2021-01-19 00:00:00  0.002098\n",
       "AMAR3    2021-01-19 00:00:00  0.001330\n",
       "SHPH11   2021-01-18 00:00:00  0.443882\n",
       "WLMM3    2021-01-18 00:00:00  0.432564\n",
       "HCRI11   2021-01-18 00:00:00  0.374815\n",
       "SUZB3    2021-01-18 00:00:00  0.211789\n",
       "EDFO11B  2021-01-18 00:00:00  0.108791\n",
       "FIIP11B  2021-01-18 00:00:00  0.101379\n",
       "ANIM3    2021-01-18 00:00:00  0.095002\n",
       "RBGS11   2021-01-18 00:00:00  0.085135\n",
       "HETA4    2021-01-18 00:00:00  0.084172\n",
       "TASA3    2021-01-18 00:00:00  0.081232\n",
       "MMXM3    2021-01-18 00:00:00  0.079234\n",
       "OSXB3    2021-01-18 00:00:00  0.070048\n",
       "HGFF11   2021-01-18 00:00:00  0.066950\n",
       "RBED11   2021-01-18 00:00:00  0.058686\n",
       "ATTB34   2021-01-18 00:00:00  0.053344\n",
       "HMOC11   2021-01-18 00:00:00  0.049133\n",
       "CRIV3    2021-01-18 00:00:00  0.048458\n",
       "AZUL4    2021-01-18 00:00:00  0.032767\n",
       "ALUP4    2021-01-18 00:00:00  0.013796\n",
       "BBRK3    2021-01-18 00:00:00  0.003746\n",
       "EUCA4    2021-01-18 00:00:00  0.001462\n",
       "FSRF11   2021-01-18 00:00:00  0.000623\n",
       "ARZZ3    2021-01-15 00:00:00  0.548858\n",
       "OUCY11   2021-01-15 00:00:00  0.229678\n",
       "ALPA4    2021-01-15 00:00:00  0.159500\n",
       "RBRP11   2021-01-15 00:00:00  0.158800\n",
       "RDNI3    2021-01-15 00:00:00  0.069242\n",
       "CEAB3    2021-01-15 00:00:00  0.058727\n",
       "LAME3    2021-01-15 00:00:00  0.053973\n",
       "EVEN3    2021-01-15 00:00:00  0.044180\n",
       "CPFE3    2021-01-15 00:00:00  0.030890\n",
       "CCPR3    2021-01-15 00:00:00  0.029173\n",
       "ALUP11   2021-01-15 00:00:00  0.029052\n",
       "TRIS3    2021-01-15 00:00:00  0.021524\n",
       "JHSF3    2021-01-15 00:00:00  0.017229\n",
       "VULC3    2021-01-15 00:00:00  0.011731"
      ]
     },
     "execution_count": 134,
     "metadata": {},
     "output_type": "execute_result"
    }
   ],
   "source": [
    "df.dropna().sort_values(['most_recent_buy_date','macdh'],ascending=False).head(50)"
   ]
  },
  {
   "cell_type": "code",
   "execution_count": 176,
   "metadata": {},
   "outputs": [],
   "source": [
    "price = ip.get_stock_historical_data(stock, 'brazil', from_date=start_of_year, to_date=today)\n",
    "macdh = price.ta.macd(10,18,9).iloc[:,1]"
   ]
  },
  {
   "cell_type": "code",
   "execution_count": 187,
   "metadata": {},
   "outputs": [
    {
     "data": {
      "text/plain": [
       "date\n",
       "2020-01-28    False\n",
       "2020-01-29    False\n",
       "2020-01-30    False\n",
       "2020-01-31     True\n",
       "2020-02-03    False\n",
       "              ...  \n",
       "2021-01-13    False\n",
       "2021-01-14    False\n",
       "2021-01-15     True\n",
       "2021-01-18    False\n",
       "2021-01-19    False\n",
       "Name: MACDh_10_18_9, Length: 243, dtype: bool"
      ]
     },
     "execution_count": 187,
     "metadata": {},
     "output_type": "execute_result"
    }
   ],
   "source": [
    "(np.sign(macdh).diff().dropna().abs() == 2)"
   ]
  },
  {
   "cell_type": "code",
   "execution_count": 188,
   "metadata": {},
   "outputs": [
    {
     "data": {
      "text/plain": [
       "array([27, 24, 21, 19, 19, 15, 14, 13, 12, 11, 10, 10,  6,  3,  3,  3],\n",
       "      dtype=int64)"
      ]
     },
     "execution_count": 188,
     "metadata": {},
     "output_type": "execute_result"
    }
   ],
   "source": [
    "(np.sign(macdh).diff().dropna().abs() == 2).cumsum().value_counts().values[1:-1]"
   ]
  },
  {
   "cell_type": "code",
   "execution_count": 186,
   "metadata": {},
   "outputs": [
    {
     "data": {
      "text/plain": [
       "'ABCB4'"
      ]
     },
     "execution_count": 186,
     "metadata": {},
     "output_type": "execute_result"
    }
   ],
   "source": []
  },
  {
   "cell_type": "code",
   "execution_count": null,
   "metadata": {},
   "outputs": [],
   "source": []
  }
 ],
 "metadata": {
  "kernelspec": {
   "display_name": "Python 3",
   "language": "python",
   "name": "python3"
  },
  "language_info": {
   "codemirror_mode": {
    "name": "ipython",
    "version": 3
   },
   "file_extension": ".py",
   "mimetype": "text/x-python",
   "name": "python",
   "nbconvert_exporter": "python",
   "pygments_lexer": "ipython3",
   "version": "3.8.5"
  }
 },
 "nbformat": 4,
 "nbformat_minor": 4
}
