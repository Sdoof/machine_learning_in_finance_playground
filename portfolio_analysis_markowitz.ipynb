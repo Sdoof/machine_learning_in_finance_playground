{
 "cells": [
  {
   "cell_type": "code",
   "execution_count": 6,
   "metadata": {},
   "outputs": [
    {
     "name": "stdout",
     "output_type": "stream",
     "text": [
      "Requirement already satisfied: finquant in c:\\users\\felbu\\anaconda3\\lib\\site-packages (0.2.2)\n",
      "Requirement already satisfied: matplotlib in c:\\users\\felbu\\anaconda3\\lib\\site-packages (from finquant) (3.4.1)\n",
      "Requirement already satisfied: pandas in c:\\users\\felbu\\appdata\\roaming\\python\\python38\\site-packages (from finquant) (1.2.0)\n",
      "Requirement already satisfied: yfinance in c:\\users\\felbu\\appdata\\roaming\\python\\python38\\site-packages (from finquant) (0.1.54)\n",
      "Requirement already satisfied: scipy in c:\\users\\felbu\\anaconda3\\lib\\site-packages (from finquant) (1.5.4)\n",
      "Requirement already satisfied: quandl in c:\\users\\felbu\\anaconda3\\lib\\site-packages (from finquant) (3.6.1)\n",
      "Requirement already satisfied: pytest in c:\\users\\felbu\\anaconda3\\lib\\site-packages (from finquant) (0.0.0)\n",
      "Requirement already satisfied: numpy in c:\\users\\felbu\\anaconda3\\lib\\site-packages (from finquant) (1.19.5)\n",
      "Requirement already satisfied: cycler>=0.10 in c:\\users\\felbu\\anaconda3\\lib\\site-packages (from matplotlib->finquant) (0.10.0)\n",
      "Requirement already satisfied: python-dateutil>=2.7 in c:\\users\\felbu\\anaconda3\\lib\\site-packages (from matplotlib->finquant) (2.8.1)\n",
      "Requirement already satisfied: pillow>=6.2.0 in c:\\users\\felbu\\anaconda3\\lib\\site-packages (from matplotlib->finquant) (8.2.0)\n",
      "Requirement already satisfied: pyparsing>=2.2.1 in c:\\users\\felbu\\anaconda3\\lib\\site-packages (from matplotlib->finquant) (2.4.7)\n",
      "Requirement already satisfied: kiwisolver>=1.0.1 in c:\\users\\felbu\\anaconda3\\lib\\site-packages (from matplotlib->finquant) (1.3.1)\n",
      "Requirement already satisfied: pytz>=2017.3 in c:\\users\\felbu\\anaconda3\\lib\\site-packages (from pandas->finquant) (2020.1)\n",
      "Requirement already satisfied: requests>=2.20 in c:\\users\\felbu\\anaconda3\\lib\\site-packages (from yfinance->finquant) (2.24.0)\n",
      "Requirement already satisfied: multitasking>=0.0.7 in c:\\users\\felbu\\anaconda3\\lib\\site-packages (from yfinance->finquant) (0.0.9)\n",
      "Requirement already satisfied: more-itertools in c:\\users\\felbu\\anaconda3\\lib\\site-packages (from quandl->finquant) (8.6.0)\n",
      "Requirement already satisfied: inflection>=0.3.1 in c:\\users\\felbu\\anaconda3\\lib\\site-packages (from quandl->finquant) (0.5.1)\n",
      "Requirement already satisfied: six in c:\\users\\felbu\\anaconda3\\lib\\site-packages (from quandl->finquant) (1.15.0)\n",
      "Requirement already satisfied: attrs>=17.4.0 in c:\\users\\felbu\\anaconda3\\lib\\site-packages (from pytest->finquant) (20.3.0)\n",
      "Requirement already satisfied: iniconfig in c:\\users\\felbu\\anaconda3\\lib\\site-packages (from pytest->finquant) (1.1.1)\n",
      "Requirement already satisfied: packaging in c:\\users\\felbu\\anaconda3\\lib\\site-packages (from pytest->finquant) (20.4)\n",
      "Requirement already satisfied: pluggy<1.0,>=0.12 in c:\\users\\felbu\\anaconda3\\lib\\site-packages (from pytest->finquant) (0.13.1)\n",
      "Requirement already satisfied: py>=1.8.2 in c:\\users\\felbu\\anaconda3\\lib\\site-packages (from pytest->finquant) (1.9.0)\n",
      "Requirement already satisfied: toml in c:\\users\\felbu\\anaconda3\\lib\\site-packages (from pytest->finquant) (0.10.1)\n",
      "Requirement already satisfied: atomicwrites>=1.0 in c:\\users\\felbu\\anaconda3\\lib\\site-packages (from pytest->finquant) (1.4.0)\n",
      "Requirement already satisfied: colorama in c:\\users\\felbu\\anaconda3\\lib\\site-packages (from pytest->finquant) (0.4.4)\n",
      "Requirement already satisfied: urllib3!=1.25.0,!=1.25.1,<1.26,>=1.21.1 in c:\\users\\felbu\\anaconda3\\lib\\site-packages (from requests>=2.20->yfinance->finquant) (1.25.11)\n",
      "Requirement already satisfied: idna<3,>=2.5 in c:\\users\\felbu\\anaconda3\\lib\\site-packages (from requests>=2.20->yfinance->finquant) (2.10)\n",
      "Requirement already satisfied: chardet<4,>=3.0.2 in c:\\users\\felbu\\anaconda3\\lib\\site-packages (from requests>=2.20->yfinance->finquant) (3.0.4)\n",
      "Requirement already satisfied: certifi>=2017.4.17 in c:\\users\\felbu\\anaconda3\\lib\\site-packages (from requests>=2.20->yfinance->finquant) (2020.6.20)\n"
     ]
    }
   ],
   "source": [
    "!pip install finquant"
   ]
  },
  {
   "cell_type": "code",
   "execution_count": 7,
   "metadata": {},
   "outputs": [],
   "source": [
    "import investpy as ip\n",
    "from datetime import datetime\n",
    "import numpy as np\n",
    "from tqdm import tqdm\n",
    "import pandas as pd\n",
    "from finquant.portfolio import build_portfolio\n",
    "import quantstats as qs\n",
    "import warnings\n",
    "warnings.filterwarnings('ignore')"
   ]
  },
  {
   "cell_type": "code",
   "execution_count": 8,
   "metadata": {},
   "outputs": [],
   "source": [
    "today = datetime.today().date().strftime('%d/%m/%Y')\n",
    "start_of_year = f'1/1/{datetime.today().date().year}'"
   ]
  },
  {
   "cell_type": "code",
   "execution_count": null,
   "metadata": {},
   "outputs": [],
   "source": [
    "def analyse_portfolio(assets,\n",
    "                      amounts,\n",
    "                      types = None,\n",
    "                      rf=0.02,\n",
    "                      num_sim = 5000,\n",
    "                      from_date = start_of_year,\n",
    "                      to_date = today,\n",
    "                      last_month=False, #overrides from_date and to_date\n",
    "                      show_current_performance=True, \n",
    "                      plot_frontier=True,\n",
    "                      plot_simulations=True,\n",
    "                      plot_stocks=True):\n",
    "    \n",
    "    if types == None:\n",
    "        types = ['stock' for i in range(len(assets))]\n",
    "    \n",
    "    assert len(assets) == len(amounts) == len(types)\n",
    "    \n",
    "    #Create allocation dataframe\n",
    "    alloc = pd.DataFrame({'Name': assets, 'Allocation': amounts})\n",
    "    alloc['Allocation'] = alloc.Allocation / sum(alloc.Allocation)\n",
    "    assert sum(alloc.Allocation)\n",
    "    \n",
    "    #Get prices\n",
    "    prices = pd.DataFrame([], columns = assets)\n",
    "    for i, s in tqdm(enumerate(assets)):\n",
    "        if last_month:\n",
    "            if types[i] == 'stock':\n",
    "                prices[s] = ip.get_stock_recent_data(s, 'brazil').Close\n",
    "            elif types[i] == 'etf':\n",
    "                prices[s] = ip.get_etf_recent_data(s, 'brazil').Close\n",
    "            else:\n",
    "                pass\n",
    "        else:\n",
    "            if types[i] == 'stock':\n",
    "                prices[s] = ip.get_stock_historical_data(s, 'brazil', from_date=from_date, to_date=to_date).Close\n",
    "            elif types[i] == 'etf':\n",
    "                prices[s] = ip.get_etf_historical_data(s, 'brazil', from_date=from_date, to_date=to_date).Close\n",
    "            else:\n",
    "                pass\n",
    "    \n",
    "    #Build portfolio\n",
    "    pf = build_portfolio(data=prices, pf_allocation = alloc)\n",
    "    pf.risk_free_rate = rf\n",
    "    \n",
    "    if show_current_performance:\n",
    "        pf.properties()\n",
    "    \n",
    "    print('\\n==== Optimal Portfolio ====\\n')\n",
    "    w, res = pf.mc_optimisation(num_trials=num_sim)\n",
    "    \n",
    "    print('-- weights --')    \n",
    "    df1 = w.transpose().reset_index().rename(columns={'index':'Name'})\n",
    "    df2 = alloc\n",
    "    df2.columns = ['Name','Current Allocations']\n",
    "    df3 = pd.merge(df1, df2)\n",
    "    df3 = df3.set_index('Name')\n",
    "    print(df3)\n",
    "    \n",
    "    print('\\n-- performance --')\n",
    "    print(res)\n",
    "    \n",
    "    if plot_frontier:\n",
    "        \n",
    "        if plot_simulations:\n",
    "            pf.mc_plot_results()\n",
    "        \n",
    "        pf.ef_plot_efrontier()\n",
    "        pf.ef.plot_optimal_portfolios()\n",
    "        pf.plot_stocks()\n",
    "    \n",
    "    if plot_stocks:\n",
    "        pf.comp_cumulative_returns().plot().axhline(y = 0, color = \"black\", lw = 3);\n"
   ]
  },
  {
   "cell_type": "code",
   "execution_count": null,
   "metadata": {},
   "outputs": [],
   "source": [
    "#== Felipe ==#\n",
    "stocks = ['PETR4', 'MGLU3', 'BBAS3', 'CYRE3', 'Fundo de Invest Ishares SP 500']\n",
    "amounts = [600, 400, 300, 200, 190]\n",
    "types = ['stock','stock','stock','stock','etf']\n",
    "analyse_portfolio(stocks, amounts, types, from_date='15/03/2020')"
   ]
  },
  {
   "cell_type": "code",
   "execution_count": 2,
   "metadata": {},
   "outputs": [
    {
     "ename": "NameError",
     "evalue": "name 'analyse_portfolio' is not defined",
     "output_type": "error",
     "traceback": [
      "\u001b[1;31m---------------------------------------------------------------------------\u001b[0m",
      "\u001b[1;31mNameError\u001b[0m                                 Traceback (most recent call last)",
      "\u001b[1;32m<ipython-input-2-1dfe28c33a2c>\u001b[0m in \u001b[0;36m<module>\u001b[1;34m\u001b[0m\n\u001b[0;32m      2\u001b[0m \u001b[0mstocks\u001b[0m \u001b[1;33m=\u001b[0m \u001b[1;33m[\u001b[0m\u001b[1;34m'PETR4'\u001b[0m\u001b[1;33m,\u001b[0m \u001b[1;34m'VVAR3'\u001b[0m\u001b[1;33m]\u001b[0m\u001b[1;33m\u001b[0m\u001b[1;33m\u001b[0m\u001b[0m\n\u001b[0;32m      3\u001b[0m \u001b[0mamounts\u001b[0m \u001b[1;33m=\u001b[0m \u001b[1;33m[\u001b[0m\u001b[1;36m1000\u001b[0m\u001b[1;33m,\u001b[0m \u001b[1;36m1000\u001b[0m\u001b[1;33m]\u001b[0m\u001b[1;33m\u001b[0m\u001b[1;33m\u001b[0m\u001b[0m\n\u001b[1;32m----> 4\u001b[1;33m \u001b[0manalyse_portfolio\u001b[0m\u001b[1;33m(\u001b[0m\u001b[0mstocks\u001b[0m\u001b[1;33m,\u001b[0m \u001b[0mamounts\u001b[0m\u001b[1;33m,\u001b[0m \u001b[0mplot_simulations\u001b[0m\u001b[1;33m=\u001b[0m\u001b[1;32mTrue\u001b[0m\u001b[1;33m,\u001b[0m \u001b[0mfrom_date\u001b[0m\u001b[1;33m=\u001b[0m\u001b[1;34m'1/10/2020'\u001b[0m\u001b[1;33m)\u001b[0m\u001b[1;33m\u001b[0m\u001b[1;33m\u001b[0m\u001b[0m\n\u001b[0m",
      "\u001b[1;31mNameError\u001b[0m: name 'analyse_portfolio' is not defined"
     ]
    }
   ],
   "source": [
    "#== Carol ==#\n",
    "stocks = ['PETR4', 'VVAR3']\n",
    "amounts = [1000, 1000]\n",
    "analyse_portfolio(stocks, amounts, plot_simulations=True, from_date='1/10/2020')"
   ]
  },
  {
   "cell_type": "code",
   "execution_count": 3,
   "metadata": {},
   "outputs": [
    {
     "ename": "NameError",
     "evalue": "name 'analyse_portfolio' is not defined",
     "output_type": "error",
     "traceback": [
      "\u001b[1;31m---------------------------------------------------------------------------\u001b[0m",
      "\u001b[1;31mNameError\u001b[0m                                 Traceback (most recent call last)",
      "\u001b[1;32m<ipython-input-3-0261f54901a5>\u001b[0m in \u001b[0;36m<module>\u001b[1;34m\u001b[0m\n\u001b[0;32m      3\u001b[0m \u001b[0mamounts\u001b[0m \u001b[1;33m=\u001b[0m \u001b[1;33m[\u001b[0m\u001b[1;36m600\u001b[0m\u001b[1;33m,\u001b[0m \u001b[1;36m400\u001b[0m\u001b[1;33m,\u001b[0m \u001b[1;36m300\u001b[0m\u001b[1;33m,\u001b[0m \u001b[1;36m200\u001b[0m\u001b[1;33m,\u001b[0m \u001b[1;36m120\u001b[0m\u001b[1;33m,\u001b[0m \u001b[1;36m100\u001b[0m\u001b[1;33m]\u001b[0m\u001b[1;33m\u001b[0m\u001b[1;33m\u001b[0m\u001b[0m\n\u001b[0;32m      4\u001b[0m \u001b[0mtypes\u001b[0m \u001b[1;33m=\u001b[0m \u001b[1;33m[\u001b[0m\u001b[1;34m'stock'\u001b[0m\u001b[1;33m,\u001b[0m\u001b[1;34m'stock'\u001b[0m\u001b[1;33m,\u001b[0m\u001b[1;34m'stock'\u001b[0m\u001b[1;33m,\u001b[0m\u001b[1;34m'stock'\u001b[0m\u001b[1;33m,\u001b[0m\u001b[1;34m'etf'\u001b[0m\u001b[1;33m,\u001b[0m \u001b[1;34m'stock'\u001b[0m\u001b[1;33m]\u001b[0m\u001b[1;33m\u001b[0m\u001b[1;33m\u001b[0m\u001b[0m\n\u001b[1;32m----> 5\u001b[1;33m \u001b[0manalyse_portfolio\u001b[0m\u001b[1;33m(\u001b[0m\u001b[0mstocks\u001b[0m\u001b[1;33m,\u001b[0m \u001b[0mamounts\u001b[0m\u001b[1;33m,\u001b[0m \u001b[0mtypes\u001b[0m\u001b[1;33m,\u001b[0m \u001b[0mfrom_date\u001b[0m\u001b[1;33m=\u001b[0m\u001b[1;34m'15/03/2020'\u001b[0m\u001b[1;33m)\u001b[0m\u001b[1;33m\u001b[0m\u001b[1;33m\u001b[0m\u001b[0m\n\u001b[0m",
      "\u001b[1;31mNameError\u001b[0m: name 'analyse_portfolio' is not defined"
     ]
    }
   ],
   "source": [
    "#== Felipe com acao de maior impacto no indice de Sortino ==#\n",
    "stocks = ['PETR4', 'MGLU3', 'BBAS3', 'CYRE3', 'Fundo de Invest Ishares SP 500', 'BIDI11']\n",
    "amounts = [600, 400, 300, 200, 120, 100]\n",
    "types = ['stock','stock','stock','stock','etf', 'stock']\n",
    "analyse_portfolio(stocks, amounts, types, from_date='15/03/2020')"
   ]
  },
  {
   "cell_type": "code",
   "execution_count": null,
   "metadata": {},
   "outputs": [],
   "source": []
  },
  {
   "cell_type": "code",
   "execution_count": null,
   "metadata": {},
   "outputs": [],
   "source": []
  }
 ],
 "metadata": {
  "kernelspec": {
   "display_name": "Python 3",
   "language": "python",
   "name": "python3"
  },
  "language_info": {
   "codemirror_mode": {
    "name": "ipython",
    "version": 3
   },
   "file_extension": ".py",
   "mimetype": "text/x-python",
   "name": "python",
   "nbconvert_exporter": "python",
   "pygments_lexer": "ipython3",
   "version": "3.8.5"
  }
 },
 "nbformat": 4,
 "nbformat_minor": 4
}
